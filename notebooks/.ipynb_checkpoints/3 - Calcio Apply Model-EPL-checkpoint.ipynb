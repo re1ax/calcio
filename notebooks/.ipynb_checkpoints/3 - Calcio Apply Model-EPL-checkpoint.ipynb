{
 "cells": [
  {
   "cell_type": "code",
   "execution_count": 54,
   "metadata": {
    "collapsed": false
   },
   "outputs": [],
   "source": [
    "import pandas as pd \n",
    "from sklearn.externals import joblib\n",
    "import numpy as np\n"
   ]
  },
  {
   "cell_type": "code",
   "execution_count": 40,
   "metadata": {
    "collapsed": true
   },
   "outputs": [],
   "source": [
    "df_week = pd.read_csv(\"../data/16-17/week1.csv\")"
   ]
  },
  {
   "cell_type": "code",
   "execution_count": 41,
   "metadata": {
    "collapsed": true
   },
   "outputs": [],
   "source": [
    "def get_teams(df):\n",
    "    \n",
    "    teams = []\n",
    "    \n",
    "    for i,cal in enumerate(df.iterrows()):\n",
    "        teams.append(cal[1][\"HomeTeam\"])\n",
    "        teams.append(cal[1][\"AwayTeam\"])\n",
    "\n",
    "        if i == 9: \n",
    "            return teams\n"
   ]
  },
  {
   "cell_type": "code",
   "execution_count": 42,
   "metadata": {
    "collapsed": false
   },
   "outputs": [
    {
     "name": "stdout",
     "output_type": "stream",
     "text": [
      "['Juventus', 'Fiorentina', 'Roma', 'Udinese', 'Atalanta', 'Lazio', 'Bologna', 'Crotone', 'Chievo', 'Inter', 'Empoli', 'Sampdoria', 'Genoa', 'Cagliari', 'Milan', 'Torino', 'Palermo', 'Sassuolo', 'Pescara', 'Napoli']\n"
     ]
    }
   ],
   "source": [
    "teams_1617 = get_teams(df_week)\n",
    "\n",
    "print teams_1617"
   ]
  },
  {
   "cell_type": "code",
   "execution_count": 43,
   "metadata": {
    "collapsed": true
   },
   "outputs": [],
   "source": [
    "def build_features(df, teams):\n",
    "\n",
    "    team_features = []\n",
    "    \n",
    "    for team in teams:\n",
    "        #print team_a\n",
    "        team_home = df[df['HomeTeam']==team]\n",
    "        team_away = df[df['AwayTeam']==team]\n",
    "        \n",
    "        #shots made\n",
    "        team_s    = team_away[\"AS\"].sum()  + team_home[\"HS\"].sum()\n",
    "        #shots on-target made\n",
    "        team_st   = team_away[\"AST\"].sum() + team_home[\"HST\"].sum()\n",
    "        #shots conceded\n",
    "        team_sc    = team_away[\"HS\"].sum()  + team_home[\"AS\"].sum()\n",
    "        #shots on-target conceded\n",
    "        team_stc   = team_away[\"HST\"].sum() + team_home[\"AST\"].sum()\n",
    "        #corners awarded\n",
    "        team_c    = team_away[\"AC\"].sum()  + team_home[\"HC\"].sum()\n",
    "        #corners conceded\n",
    "        team_cc    = team_away[\"HC\"].sum()  + team_home[\"AC\"].sum()\n",
    "\n",
    "        team_features.append([team_s,team_sc,team_st,team_stc,team_c,team_cc])\n",
    "\n",
    "    return team_features"
   ]
  },
  {
   "cell_type": "code",
   "execution_count": 44,
   "metadata": {
    "collapsed": true
   },
   "outputs": [],
   "source": [
    "def build_target(df, teams):\n",
    "\n",
    "    team_target = []\n",
    "    \n",
    "    for team in teams:\n",
    "        #print team_a\n",
    "        t      = df[(df['HomeTeam']==team) | (df['AwayTeam']==team)]\n",
    "        team_home = df[df['HomeTeam']==team]\n",
    "        team_away = df[df['AwayTeam']==team]\n",
    "\n",
    "        team_h_win = len(team_home[team_home['FTHG']>team_home['FTAG']])\n",
    "        team_a_win = len(team_away[team_away['FTAG']>team_away['FTHG']])\n",
    "        team_draw = len(t[t['FTAG']==t['FTHG']])\n",
    "\n",
    "        team_points = 3*team_a_win + 3*team_h_win + team_draw\n",
    "        team_target.append(team_points)\n",
    "\n",
    "    return team_target\n"
   ]
  },
  {
   "cell_type": "code",
   "execution_count": 45,
   "metadata": {
    "collapsed": false
   },
   "outputs": [],
   "source": [
    "targ_1617 = build_target(df_week, teams_1617)\n",
    "feat_1617 = build_features(df_week, teams_1617)"
   ]
  },
  {
   "cell_type": "code",
   "execution_count": 46,
   "metadata": {
    "collapsed": true
   },
   "outputs": [],
   "source": [
    "model_1 = joblib.load('../data/linreg_model.pkl')\n",
    "\n",
    "pred_1617 = model_1.predict(feat_1617)"
   ]
  },
  {
   "cell_type": "code",
   "execution_count": 47,
   "metadata": {
    "collapsed": false
   },
   "outputs": [],
   "source": [
    "#print pred_1617\n",
    "#print teams_1617\n",
    "ranking = []\n",
    "\n",
    "for t,p in zip(teams_1617,pred_1617):\n",
    "    ranking.append((t, p)) "
   ]
  },
  {
   "cell_type": "code",
   "execution_count": 48,
   "metadata": {
    "collapsed": false
   },
   "outputs": [
    {
     "name": "stdout",
     "output_type": "stream",
     "text": [
      "Roma 3.95198379888\n",
      "Sassuolo 2.92885729694\n",
      "Bologna 2.53529738093\n",
      "Milan 2.4477985898\n",
      "Genoa 1.67571738486\n",
      "Lazio 1.62321197077\n",
      "Sampdoria 1.5977900153\n",
      "Napoli 1.57957979218\n",
      "Chievo 1.51409865929\n",
      "Pescara 1.50876414608\n",
      "Juventus 1.42248187739\n",
      "Atalanta 1.39430750977\n",
      "Inter 1.14267098657\n",
      "Torino 1.12767683926\n",
      "Cagliari 0.852399158452\n",
      "Empoli 0.682577833982\n",
      "Fiorentina 0.60329818021\n",
      "Palermo 0.11151318736\n",
      "Crotone -0.122093480467\n",
      "Udinese -0.249406825281\n"
     ]
    }
   ],
   "source": [
    "ranking.sort(key=lambda x: x[1],reverse=True)\n",
    "for t,p in ranking:\n",
    "    print t,p"
   ]
  },
  {
   "cell_type": "code",
   "execution_count": 55,
   "metadata": {
    "collapsed": false
   },
   "outputs": [
    {
     "name": "stdout",
     "output_type": "stream",
     "text": [
      "[3, 0, 3, 0, 0, 3, 3, 0, 3, 0, 0, 3, 3, 0, 3, 0, 0, 3, 1, 1]\n",
      "Variance score: 0.55\n",
      "Residual sum of squares: 0.93\n"
     ]
    }
   ],
   "source": [
    "print targ_1617\n",
    "#Explained variance score: 1 is perfect prediction\n",
    "print('Variance score: %.2f' % model_1.score(feat_1617, targ_1617))\n",
    "print(\"Residual sum of squares: %.2f\"\n",
    "      % np.mean((model_1.predict(feat_1617) - targ_1617) ** 2))"
   ]
  },
  {
   "cell_type": "code",
   "execution_count": 22,
   "metadata": {
    "collapsed": true
   },
   "outputs": [],
   "source": [
    "model_1 = joblib.load('../data/regtree_model.pkl')\n",
    "\n",
    "pred_1617 = model_1.predict(feat_1617)"
   ]
  },
  {
   "cell_type": "code",
   "execution_count": 23,
   "metadata": {
    "collapsed": false
   },
   "outputs": [
    {
     "name": "stdout",
     "output_type": "stream",
     "text": [
      "[ 43.35714286  43.35714286  43.35714286  43.35714286  43.35714286\n",
      "  43.35714286  43.35714286  43.35714286  43.35714286  43.35714286\n",
      "  43.35714286  43.35714286  43.35714286  43.35714286  43.35714286\n",
      "  43.35714286  43.35714286  43.35714286  43.35714286  43.35714286]\n",
      "[3, 0, 3, 0, 0, 3, 3, 0, 3, 0, 0, 3, 3, 0, 3, 0, 0, 3, 1, 1]\n"
     ]
    }
   ],
   "source": [
    "print pred_1617\n",
    "print targ_1617"
   ]
  },
  {
   "cell_type": "code",
   "execution_count": null,
   "metadata": {
    "collapsed": true
   },
   "outputs": [],
   "source": []
  }
 ],
 "metadata": {
  "kernelspec": {
   "display_name": "Python 2",
   "language": "python",
   "name": "python2"
  },
  "language_info": {
   "codemirror_mode": {
    "name": "ipython",
    "version": 2
   },
   "file_extension": ".py",
   "mimetype": "text/x-python",
   "name": "python",
   "nbconvert_exporter": "python",
   "pygments_lexer": "ipython2",
   "version": "2.7.11"
  }
 },
 "nbformat": 4,
 "nbformat_minor": 0
}
