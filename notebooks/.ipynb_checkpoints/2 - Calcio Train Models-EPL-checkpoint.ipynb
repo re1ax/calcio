{
 "cells": [
  {
   "cell_type": "code",
   "execution_count": 13,
   "metadata": {
    "collapsed": true
   },
   "outputs": [],
   "source": [
    "import pandas as pd\n",
    "import numpy as np \n",
    "import matplotlib.pyplot as plt \n",
    "from pylab import *\n",
    "%matplotlib inline\n",
    "import numpy as np\n",
    "from sklearn import datasets, linear_model\n",
    "from sklearn import cross_validation as cv\n",
    "from sklearn.tree import DecisionTreeRegressor\n",
    "from sklearn.externals import joblib"
   ]
  },
  {
   "cell_type": "code",
   "execution_count": 14,
   "metadata": {
    "collapsed": false
   },
   "outputs": [
    {
     "name": "stdout",
     "output_type": "stream",
     "text": [
      "    shots  shots_ontarget  shots_conceded  shots_conceded_ontarget  corners  \\\n",
      "0     511             418             147                      153      243   \n",
      "1     387             469             114                      156      184   \n",
      "2     451             519             142                      182      209   \n",
      "3     585             428             216                      148      236   \n",
      "4     477             531             148                      164      169   \n",
      "5     423             591             129                      177      156   \n",
      "6     573             342             180                      114      208   \n",
      "7     550             454             173                      143      230   \n",
      "8     486             770             124                      228      170   \n",
      "9     471             446             176                      146      181   \n",
      "10    516             466             167                      153      245   \n",
      "11    454             471             137                      157      190   \n",
      "12    599             340             215                       95      212   \n",
      "13    444             524             145                      169      192   \n",
      "14    412             603             122                      201      164   \n",
      "15    468             514             149                      171      197   \n",
      "16    430             598             152                      207      172   \n",
      "17    426             507             132                      170      178   \n",
      "18    486             473             153                      142      202   \n",
      "19    656             341             243                       88      224   \n",
      "20    458             579             138                      161      165   \n",
      "21    603             399             202                      101      221   \n",
      "22    523             392             176                      118      224   \n",
      "23    617             462             201                      154      247   \n",
      "24    463             567             132                      207      193   \n",
      "25    458             614             156                      203      175   \n",
      "26    357             584             115                      197      132   \n",
      "27    414             528             111                      198      152   \n",
      "28    488             497             177                      186      232   \n",
      "29    622             382             233                      128      251   \n",
      "..    ...             ...             ...                      ...      ...   \n",
      "70    638             392             232                      134      236   \n",
      "71    430             517             138                      174      181   \n",
      "72    511             521             165                      198      189   \n",
      "73    574             482             222                      135      237   \n",
      "74    400             672             119                      260      146   \n",
      "75    551             507             185                      177      228   \n",
      "76    608             490             214                      176      241   \n",
      "77    469             544             148                      171      164   \n",
      "78    351             526             109                      196      182   \n",
      "79    422             484             145                      153      187   \n",
      "80    589             452             219                      135      250   \n",
      "81    500             461             178                      164      187   \n",
      "82    452             600             128                      205      170   \n",
      "83    521             448             180                      145      218   \n",
      "84    548             532             176                      179      199   \n",
      "85    386             493             135                      165      155   \n",
      "86    430             499             136                      155      145   \n",
      "87    467             648             142                      204      202   \n",
      "88    496             453             151                      148      203   \n",
      "89    444             522             155                      166      162   \n",
      "90    440             601             163                      204      215   \n",
      "91    413             509             142                      156      189   \n",
      "92    725             349             262                      104      272   \n",
      "93    515             473             148                      162      199   \n",
      "94    429             551             137                      209      158   \n",
      "95    525             520             174                      148      176   \n",
      "96    498             596             179                      191      184   \n",
      "97    603             433             191                      155      227   \n",
      "98    623             510             204                      182      229   \n",
      "99    475             429             142                      165      218   \n",
      "\n",
      "    corners_conceded  \n",
      "0                168  \n",
      "1                232  \n",
      "2                224  \n",
      "3                184  \n",
      "4                195  \n",
      "5                232  \n",
      "6                137  \n",
      "7                172  \n",
      "8                285  \n",
      "9                166  \n",
      "10               200  \n",
      "11               197  \n",
      "12               107  \n",
      "13               189  \n",
      "14               227  \n",
      "15               195  \n",
      "16               271  \n",
      "17               232  \n",
      "18               216  \n",
      "19               133  \n",
      "20               243  \n",
      "21               161  \n",
      "22               165  \n",
      "23               176  \n",
      "24               228  \n",
      "25               253  \n",
      "26               235  \n",
      "27               196  \n",
      "28               217  \n",
      "29               146  \n",
      "..               ...  \n",
      "70               159  \n",
      "71               198  \n",
      "72               224  \n",
      "73               208  \n",
      "74               220  \n",
      "75               186  \n",
      "76               215  \n",
      "77               218  \n",
      "78               223  \n",
      "79               195  \n",
      "80               165  \n",
      "81               174  \n",
      "82               262  \n",
      "83               169  \n",
      "84               199  \n",
      "85               218  \n",
      "86               220  \n",
      "87               221  \n",
      "88               199  \n",
      "89               236  \n",
      "90               213  \n",
      "91               204  \n",
      "92               141  \n",
      "93               188  \n",
      "94               237  \n",
      "95               152  \n",
      "96               206  \n",
      "97               188  \n",
      "98               196  \n",
      "99               170  \n",
      "\n",
      "[100 rows x 6 columns]\n",
      "0     54\n",
      "1     42\n",
      "2     28\n",
      "3     80\n",
      "4     46\n",
      "5     50\n",
      "6     64\n",
      "7     57\n",
      "8     31\n",
      "9     45\n",
      "10    67\n",
      "11    45\n",
      "12    91\n",
      "13    39\n",
      "14    39\n",
      "15    46\n",
      "16    40\n",
      "17    38\n",
      "18    61\n",
      "19    82\n",
      "20    43\n",
      "21    87\n",
      "22    70\n",
      "23    64\n",
      "24    37\n",
      "25    46\n",
      "26    24\n",
      "27    26\n",
      "28    59\n",
      "29    63\n",
      "      ..\n",
      "70    72\n",
      "71    43\n",
      "72    32\n",
      "73    78\n",
      "74    22\n",
      "75    54\n",
      "76    62\n",
      "77    56\n",
      "78    36\n",
      "79    40\n",
      "80    80\n",
      "81    62\n",
      "82    22\n",
      "83    61\n",
      "84    48\n",
      "85    44\n",
      "86    49\n",
      "87    32\n",
      "88    46\n",
      "89    51\n",
      "90    42\n",
      "91    52\n",
      "92    84\n",
      "93    56\n",
      "94    36\n",
      "95    64\n",
      "96    43\n",
      "97    58\n",
      "98    56\n",
      "99    43\n",
      "Name: points, dtype: int64\n"
     ]
    }
   ],
   "source": [
    "#open the data file\n",
    "\n",
    "df = pd.DataFrame.from_csv(\"../data/proc_data_it.csv\")\n",
    "\n",
    "features = df[[\"shots\",\"shots_ontarget\",\"shots_conceded\",\"shots_conceded_ontarget\",\"corners\",\"corners_conceded\"]]\n",
    "target   = df[\"points\"]\n",
    "\n",
    "print features\n",
    "\n",
    "print target"
   ]
  },
  {
   "cell_type": "code",
   "execution_count": 16,
   "metadata": {
    "collapsed": false
   },
   "outputs": [
    {
     "name": "stdout",
     "output_type": "stream",
     "text": [
      "('Regression scores', array([ 0.76526365,  0.60000087,  0.7701603 ,  0.67637516]))\n",
      "Regression scores average 0.70\n",
      "scores variance 0.07\n"
     ]
    }
   ],
   "source": [
    "# Split the data into training/testing sets\n",
    "#X_train, X_test, y_train, y_test = cv.train_test_split(features, target, test_size=0.33, random_state=42)\n",
    "\n",
    "#print np.array(X_test)[:,0]\n",
    "#print np.array(y_test)[:]\n",
    "\n",
    "# Create linear regression object\n",
    "regr = linear_model.LinearRegression(fit_intercept=False)\n",
    "\n",
    "#print len(X_train)\n",
    "#print len(y_train)\n",
    "# Train the model using the training sets\n",
    "#regr.fit(X_train, y_train)\n",
    "\n",
    "scores = cv.cross_val_score(regr, features, target,cv=4)\n",
    "print(\"Regression scores\", scores)\n",
    "print(\"Regression scores average %.2f\" %np.mean(scores))\n",
    "print(\"scores variance %.2f\" %np.std(scores))\n",
    "\n",
    "# The coefficients\n",
    "#print('Coefficients: \\n', regr.coef_)\n",
    "# The mean square error\n",
    "#print(\"Residual sum of squares: %.2f\"\n",
    "#      % np.mean((regr.predict(X_test) - y_test) ** 2))\n",
    "# Explained variance score: 1 is perfect prediction\n",
    "#print('Variance score: %.6f' % regr.score(X_test, y_test))"
   ]
  },
  {
   "cell_type": "code",
   "execution_count": 17,
   "metadata": {
    "collapsed": false
   },
   "outputs": [
    {
     "name": "stdout",
     "output_type": "stream",
     "text": [
      "[-0.0033347   0.07526375  0.32234863 -0.29038709  0.06643884 -0.01353779]\n",
      "0.0\n"
     ]
    },
    {
     "data": {
      "text/plain": [
       "['../data/linreg_model.pkl',\n",
       " '../data/linreg_model.pkl_01.npy',\n",
       " '../data/linreg_model.pkl_02.npy']"
      ]
     },
     "execution_count": 17,
     "metadata": {},
     "output_type": "execute_result"
    }
   ],
   "source": [
    "#apply the linear regression model to the full dataset and \n",
    "#save the regression data into a model to apply it later\n",
    "regr.fit(features,target)\n",
    "print regr.coef_\n",
    "print regr.intercept_\n",
    "joblib.dump(regr, '../data/linreg_model.pkl')  "
   ]
  },
  {
   "cell_type": "code",
   "execution_count": 7,
   "metadata": {
    "collapsed": false
   },
   "outputs": [
    {
     "name": "stdout",
     "output_type": "stream",
     "text": [
      "('Regression Tree scores', array([ 0.67406598,  0.37907856,  0.45709721,  0.70153998,  0.8024865 ]))\n",
      "Regression Tree scores average 0.60\n",
      "Regression Tree scores variance 0.16\n",
      "('Regression Tree2 scores', array([ 0.52193269,  0.47431572,  0.69456962,  0.68271971,  0.60181611]))\n",
      "Regression Tree2 scores average 0.60\n",
      "Regression Tree2 scores variance 0.09\n",
      "('Regression Tree3 scores', array([ 0.30570177,  0.32434821,  0.5601781 ,  0.68923969,  0.45251815]))\n",
      "Regression Tree3 scores average 0.47\n",
      "Regression Tree3 scores variance 0.14\n"
     ]
    }
   ],
   "source": [
    "# Fit regression model Decision Tree\n",
    "regr_1 = DecisionTreeRegressor(max_depth=2)\n",
    "regr_2 = DecisionTreeRegressor(max_depth=5)\n",
    "regr_3 = DecisionTreeRegressor()\n",
    "\n",
    "scores = cv.cross_val_score(regr_1, features, target,cv=5)\n",
    "print(\"Regression Tree scores\", scores)\n",
    "print(\"Regression Tree scores average %.2f\" %np.mean(scores))\n",
    "print(\"Regression Tree scores variance %.2f\" %np.std(scores))\n",
    "\n",
    "\n",
    "scores = cv.cross_val_score(regr_2, features, target,cv=5)\n",
    "print(\"Regression Tree2 scores\", scores)\n",
    "print(\"Regression Tree2 scores average %.2f\" %np.mean(scores))\n",
    "print(\"Regression Tree2 scores variance %.2f\" %np.std(scores))\n",
    "\n",
    "\n",
    "scores = cv.cross_val_score(regr_3, features, target,cv=5)\n",
    "print(\"Regression Tree3 scores\", scores)\n",
    "print(\"Regression Tree3 scores average %.2f\" %np.mean(scores))\n",
    "print(\"Regression Tree3 scores variance %.2f\" %np.std(scores))\n"
   ]
  },
  {
   "cell_type": "code",
   "execution_count": 8,
   "metadata": {
    "collapsed": false
   },
   "outputs": [
    {
     "data": {
      "text/plain": [
       "['../data/regtree_model.pkl',\n",
       " '../data/regtree_model.pkl_01.npy',\n",
       " '../data/regtree_model.pkl_02.npy',\n",
       " '../data/regtree_model.pkl_03.npy']"
      ]
     },
     "execution_count": 8,
     "metadata": {},
     "output_type": "execute_result"
    }
   ],
   "source": [
    "#apply the regression tree model to the full dataset and \n",
    "#save the regression data into a model to apply it later\n",
    "regr_2.fit(features,target)\n",
    "joblib.dump(regr_2, '../data/regtree_model.pkl')  "
   ]
  },
  {
   "cell_type": "code",
   "execution_count": null,
   "metadata": {
    "collapsed": true
   },
   "outputs": [],
   "source": [
    "\n"
   ]
  }
 ],
 "metadata": {
  "kernelspec": {
   "display_name": "Python 2",
   "language": "python",
   "name": "python2"
  },
  "language_info": {
   "codemirror_mode": {
    "name": "ipython",
    "version": 2
   },
   "file_extension": ".py",
   "mimetype": "text/x-python",
   "name": "python",
   "nbconvert_exporter": "python",
   "pygments_lexer": "ipython2",
   "version": "2.7.11"
  }
 },
 "nbformat": 4,
 "nbformat_minor": 0
}
