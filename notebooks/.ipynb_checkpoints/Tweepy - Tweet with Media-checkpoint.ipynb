{
 "cells": [
  {
   "cell_type": "code",
   "execution_count": 2,
   "metadata": {
    "collapsed": false
   },
   "outputs": [],
   "source": [
    "import tweepy\n",
    "CONSUMER_KEY = 'BlqNImwKoCSxohhNUkoHbX5xO'\n",
    "CONSUMER_SECRET = 'kYbVX9KmumyHh2hKKYg1nBE2fZUqfKLIt4WSH1eyD9VHnaJQiC'\n",
    "OAUTH_TOKEN = '782339679035199492-8LIbyF8SrIoCEEHRj7jWbeFpRvGMGLs'\n",
    "OAUTH_TOKEN_SECRET = 'MjS694lYTyrfYeudd5pLTiV9pTtmumdSDogwQfzF58pBJ'"
   ]
  },
  {
   "cell_type": "code",
   "execution_count": 3,
   "metadata": {
    "collapsed": false
   },
   "outputs": [
    {
     "name": "stdout",
     "output_type": "stream",
     "text": [
      "@SimonGleave @octonion I was on a US train last week. Unbelievably rickety and slow.\n",
      "@mixedknuts @octonion He hasn't been on a British train yet though (although that is still an order of magnitude better than US trains)\n",
      "Even Zinedine Zidane had to begin his management career in the third tier ;-) https://t.co/XA6Cn3aGUM\n",
      "It's not impossible that a PL star could step in and immediately succeed, but at this point it is very unlikely.\n",
      "\n",
      "Even Pep started w Barca B\n",
      "Becoming a top coach takes practice and reps. Experience _really_ matters. You get that by managing in the lower leagues and academies.\n",
      "We occasionally hear about former PL stars disappointed in not being considered for open PL jobs. NO ONE should start as a  PL manager.\n",
      "Very interesting to see points for various positions plotted as 3 year rolling averages. 1st to 5th gap much bigger… https://t.co/W7kdQguWyi\n",
      "RT @SzymonBartnicki: Debiutant Damian Dąbrowski. Stylówka 👌 https://t.co/0Z8KlwPTht\n",
      "RT @MikolajKortus: Legia wygrała 3:0 - \"kozaków\" na Weszło czterech. Cracovia 6:0 - \"kozaków\" trzech. :)))\n",
      "In 5 of the last 7 seasons (including 2015/2016), Tottenham have got 69 to 72 points. Improving or profiting from d… https://t.co/0r80ZRkmCT\n",
      "RT @EuroClubIndex: Tottenham Hotspur are this week's big winners in our top-20, rising 5 spots to have the top-10 in sight. \n",
      "@SpursOfficial…\n",
      "@deepxg @BobbyGardiner @unfitforpurpose The best and brightest have caught up with Slack and Trello. Evernote is where it's at now.\n",
      "@statlurker @BobbyGardiner @unfitforpurpose stop giving away secret analytics tech secrets.\n",
      "@deepxg @BobbyGardiner @unfitforpurpose are these... *squints* are these Trello boards?\n",
      "@statlurker @BobbyGardiner @unfitforpurpose *adds Clwb Pêl-Droed Dadansoddi  to the stable* https://t.co/6GYBJZ46hF\n",
      "Chelsea - Leicester has become a must watch match apparently\n",
      "#LCFC #CFC https://t.co/9bbxMww7Yj\n",
      "RT @simonjfarrant: @footballfactman https://t.co/3Zdc44IPew\n",
      "welcome to the party #unfashionablylate\n",
      "RT @OptaPro: Expected Goal Leaderboard for @SpursOfficial. Son Heung-Min a notable standout. Sample. https://t.co/gX5KWPVl34\n",
      "RT @OptaPro: Visualising @SpursOfficial’s shot quality in attack and defence (using Expected Goals) in the Premier League so far. Pepper. h…\n"
     ]
    }
   ],
   "source": [
    "auth = tweepy.OAuthHandler(CONSUMER_KEY, CONSUMER_SECRET)\n",
    "auth.set_access_token(OAUTH_TOKEN, OAUTH_TOKEN_SECRET)\n",
    "\n",
    "api = tweepy.API(auth)\n",
    "\n",
    "public_tweets = api.home_timeline()\n",
    "for tweet in public_tweets:\n",
    "    print tweet.text"
   ]
  },
  {
   "cell_type": "code",
   "execution_count": 4,
   "metadata": {
    "collapsed": false
   },
   "outputs": [
    {
     "data": {
      "text/plain": [
       "Status(contributors=None, truncated=False, text=u'test media update https://t.co/XtPzDyfsZp', is_quote_status=False, in_reply_to_status_id=None, id=782979688960491520L, favorite_count=0, _api=<tweepy.api.API object at 0x0000000003EA5780>, author=User(follow_request_sent=False, has_extended_profile=False, profile_use_background_image=True, _json={u'follow_request_sent': False, u'has_extended_profile': False, u'profile_use_background_image': True, u'default_profile_image': False, u'id': 782339679035199492L, u'profile_background_image_url_https': None, u'verified': False, u'profile_text_color': u'333333', u'profile_image_url_https': u'https://pbs.twimg.com/profile_images/782342431866060800/4eDSRcK2_normal.jpg', u'profile_sidebar_fill_color': u'DDEEF6', u'entities': {u'description': {u'urls': []}}, u'followers_count': 2, u'profile_sidebar_border_color': u'C0DEED', u'id_str': u'782339679035199492', u'profile_background_color': u'F5F8FA', u'listed_count': 0, u'is_translation_enabled': False, u'utc_offset': None, u'statuses_count': 2, u'description': u'Data Science applied to football. Mostly Serie A.', u'friends_count': 26, u'location': u'London, England', u'profile_link_color': u'2B7BB9', u'profile_image_url': u'http://pbs.twimg.com/profile_images/782342431866060800/4eDSRcK2_normal.jpg', u'following': False, u'geo_enabled': False, u'profile_banner_url': u'https://pbs.twimg.com/profile_banners/782339679035199492/1475360804', u'profile_background_image_url': None, u'screen_name': u'analytics_trop', u'lang': u'en', u'profile_background_tile': False, u'favourites_count': 0, u'name': u'tropianhs_analytics', u'notifications': False, u'url': None, u'created_at': u'Sat Oct 01 22:01:29 +0000 2016', u'contributors_enabled': False, u'time_zone': None, u'protected': False, u'default_profile': True, u'is_translator': False}, time_zone=None, id=782339679035199492L, _api=<tweepy.api.API object at 0x0000000003EA5780>, verified=False, profile_text_color=u'333333', profile_image_url_https=u'https://pbs.twimg.com/profile_images/782342431866060800/4eDSRcK2_normal.jpg', profile_sidebar_fill_color=u'DDEEF6', is_translator=False, geo_enabled=False, entities={u'description': {u'urls': []}}, followers_count=2, protected=False, id_str=u'782339679035199492', default_profile_image=False, listed_count=0, lang=u'en', utc_offset=None, statuses_count=2, description=u'Data Science applied to football. Mostly Serie A.', friends_count=26, profile_link_color=u'2B7BB9', profile_image_url=u'http://pbs.twimg.com/profile_images/782342431866060800/4eDSRcK2_normal.jpg', notifications=False, profile_background_image_url_https=None, profile_background_color=u'F5F8FA', profile_banner_url=u'https://pbs.twimg.com/profile_banners/782339679035199492/1475360804', profile_background_image_url=None, name=u'tropianhs_analytics', is_translation_enabled=False, profile_background_tile=False, favourites_count=0, screen_name=u'analytics_trop', url=None, created_at=datetime.datetime(2016, 10, 1, 22, 1, 29), contributors_enabled=False, location=u'London, England', profile_sidebar_border_color=u'C0DEED', default_profile=True, following=False), _json={u'contributors': None, u'truncated': False, u'text': u'test media update https://t.co/XtPzDyfsZp', u'is_quote_status': False, u'in_reply_to_status_id': None, u'id': 782979688960491520L, u'favorite_count': 0, u'source': u'<a href=\"http://tropiano.github.io\" rel=\"nofollow\">calciostats</a>', u'retweeted': False, u'coordinates': None, u'entities': {u'symbols': [], u'user_mentions': [], u'hashtags': [], u'urls': [], u'media': [{u'expanded_url': u'https://twitter.com/analytics_trop/status/782979688960491520/photo/1', u'display_url': u'pic.twitter.com/XtPzDyfsZp', u'url': u'https://t.co/XtPzDyfsZp', u'media_url_https': u'https://pbs.twimg.com/media/Ct2z4IwXEAEldLv.jpg', u'id_str': u'782979687236702209', u'sizes': {u'large': {u'h': 387, u'resize': u'fit', u'w': 620}, u'small': {u'h': 387, u'resize': u'fit', u'w': 620}, u'medium': {u'h': 387, u'resize': u'fit', u'w': 620}, u'thumb': {u'h': 150, u'resize': u'crop', u'w': 150}}, u'indices': [18, 41], u'type': u'photo', u'id': 782979687236702209L, u'media_url': u'http://pbs.twimg.com/media/Ct2z4IwXEAEldLv.jpg'}]}, u'in_reply_to_screen_name': None, u'in_reply_to_user_id': None, u'retweet_count': 0, u'id_str': u'782979688960491520', u'favorited': False, u'user': {u'follow_request_sent': False, u'has_extended_profile': False, u'profile_use_background_image': True, u'default_profile_image': False, u'id': 782339679035199492L, u'profile_background_image_url_https': None, u'verified': False, u'profile_text_color': u'333333', u'profile_image_url_https': u'https://pbs.twimg.com/profile_images/782342431866060800/4eDSRcK2_normal.jpg', u'profile_sidebar_fill_color': u'DDEEF6', u'entities': {u'description': {u'urls': []}}, u'followers_count': 2, u'profile_sidebar_border_color': u'C0DEED', u'id_str': u'782339679035199492', u'profile_background_color': u'F5F8FA', u'listed_count': 0, u'is_translation_enabled': False, u'utc_offset': None, u'statuses_count': 2, u'description': u'Data Science applied to football. Mostly Serie A.', u'friends_count': 26, u'location': u'London, England', u'profile_link_color': u'2B7BB9', u'profile_image_url': u'http://pbs.twimg.com/profile_images/782342431866060800/4eDSRcK2_normal.jpg', u'following': False, u'geo_enabled': False, u'profile_banner_url': u'https://pbs.twimg.com/profile_banners/782339679035199492/1475360804', u'profile_background_image_url': None, u'screen_name': u'analytics_trop', u'lang': u'en', u'profile_background_tile': False, u'favourites_count': 0, u'name': u'tropianhs_analytics', u'notifications': False, u'url': None, u'created_at': u'Sat Oct 01 22:01:29 +0000 2016', u'contributors_enabled': False, u'time_zone': None, u'protected': False, u'default_profile': True, u'is_translator': False}, u'geo': None, u'in_reply_to_user_id_str': None, u'possibly_sensitive': False, u'lang': u'en', u'created_at': u'Mon Oct 03 16:24:39 +0000 2016', u'in_reply_to_status_id_str': None, u'place': None, u'extended_entities': {u'media': [{u'expanded_url': u'https://twitter.com/analytics_trop/status/782979688960491520/photo/1', u'display_url': u'pic.twitter.com/XtPzDyfsZp', u'url': u'https://t.co/XtPzDyfsZp', u'media_url_https': u'https://pbs.twimg.com/media/Ct2z4IwXEAEldLv.jpg', u'id_str': u'782979687236702209', u'sizes': {u'large': {u'h': 387, u'resize': u'fit', u'w': 620}, u'small': {u'h': 387, u'resize': u'fit', u'w': 620}, u'medium': {u'h': 387, u'resize': u'fit', u'w': 620}, u'thumb': {u'h': 150, u'resize': u'crop', u'w': 150}}, u'indices': [18, 41], u'type': u'photo', u'id': 782979687236702209L, u'media_url': u'http://pbs.twimg.com/media/Ct2z4IwXEAEldLv.jpg'}]}}, coordinates=None, entities={u'symbols': [], u'user_mentions': [], u'hashtags': [], u'urls': [], u'media': [{u'expanded_url': u'https://twitter.com/analytics_trop/status/782979688960491520/photo/1', u'display_url': u'pic.twitter.com/XtPzDyfsZp', u'url': u'https://t.co/XtPzDyfsZp', u'media_url_https': u'https://pbs.twimg.com/media/Ct2z4IwXEAEldLv.jpg', u'id_str': u'782979687236702209', u'sizes': {u'large': {u'h': 387, u'resize': u'fit', u'w': 620}, u'small': {u'h': 387, u'resize': u'fit', u'w': 620}, u'medium': {u'h': 387, u'resize': u'fit', u'w': 620}, u'thumb': {u'h': 150, u'resize': u'crop', u'w': 150}}, u'indices': [18, 41], u'type': u'photo', u'id': 782979687236702209L, u'media_url': u'http://pbs.twimg.com/media/Ct2z4IwXEAEldLv.jpg'}]}, in_reply_to_screen_name=None, id_str=u'782979688960491520', retweet_count=0, in_reply_to_user_id=None, favorited=False, source_url=u'http://tropiano.github.io', user=User(follow_request_sent=False, has_extended_profile=False, profile_use_background_image=True, _json={u'follow_request_sent': False, u'has_extended_profile': False, u'profile_use_background_image': True, u'default_profile_image': False, u'id': 782339679035199492L, u'profile_background_image_url_https': None, u'verified': False, u'profile_text_color': u'333333', u'profile_image_url_https': u'https://pbs.twimg.com/profile_images/782342431866060800/4eDSRcK2_normal.jpg', u'profile_sidebar_fill_color': u'DDEEF6', u'entities': {u'description': {u'urls': []}}, u'followers_count': 2, u'profile_sidebar_border_color': u'C0DEED', u'id_str': u'782339679035199492', u'profile_background_color': u'F5F8FA', u'listed_count': 0, u'is_translation_enabled': False, u'utc_offset': None, u'statuses_count': 2, u'description': u'Data Science applied to football. Mostly Serie A.', u'friends_count': 26, u'location': u'London, England', u'profile_link_color': u'2B7BB9', u'profile_image_url': u'http://pbs.twimg.com/profile_images/782342431866060800/4eDSRcK2_normal.jpg', u'following': False, u'geo_enabled': False, u'profile_banner_url': u'https://pbs.twimg.com/profile_banners/782339679035199492/1475360804', u'profile_background_image_url': None, u'screen_name': u'analytics_trop', u'lang': u'en', u'profile_background_tile': False, u'favourites_count': 0, u'name': u'tropianhs_analytics', u'notifications': False, u'url': None, u'created_at': u'Sat Oct 01 22:01:29 +0000 2016', u'contributors_enabled': False, u'time_zone': None, u'protected': False, u'default_profile': True, u'is_translator': False}, time_zone=None, id=782339679035199492L, _api=<tweepy.api.API object at 0x0000000003EA5780>, verified=False, profile_text_color=u'333333', profile_image_url_https=u'https://pbs.twimg.com/profile_images/782342431866060800/4eDSRcK2_normal.jpg', profile_sidebar_fill_color=u'DDEEF6', is_translator=False, geo_enabled=False, entities={u'description': {u'urls': []}}, followers_count=2, protected=False, id_str=u'782339679035199492', default_profile_image=False, listed_count=0, lang=u'en', utc_offset=None, statuses_count=2, description=u'Data Science applied to football. Mostly Serie A.', friends_count=26, profile_link_color=u'2B7BB9', profile_image_url=u'http://pbs.twimg.com/profile_images/782342431866060800/4eDSRcK2_normal.jpg', notifications=False, profile_background_image_url_https=None, profile_background_color=u'F5F8FA', profile_banner_url=u'https://pbs.twimg.com/profile_banners/782339679035199492/1475360804', profile_background_image_url=None, name=u'tropianhs_analytics', is_translation_enabled=False, profile_background_tile=False, favourites_count=0, screen_name=u'analytics_trop', url=None, created_at=datetime.datetime(2016, 10, 1, 22, 1, 29), contributors_enabled=False, location=u'London, England', profile_sidebar_border_color=u'C0DEED', default_profile=True, following=False), geo=None, in_reply_to_user_id_str=None, possibly_sensitive=False, lang=u'en', created_at=datetime.datetime(2016, 10, 3, 16, 24, 39), in_reply_to_status_id_str=None, place=None, source=u'calciostats', extended_entities={u'media': [{u'expanded_url': u'https://twitter.com/analytics_trop/status/782979688960491520/photo/1', u'display_url': u'pic.twitter.com/XtPzDyfsZp', u'url': u'https://t.co/XtPzDyfsZp', u'media_url_https': u'https://pbs.twimg.com/media/Ct2z4IwXEAEldLv.jpg', u'id_str': u'782979687236702209', u'sizes': {u'large': {u'h': 387, u'resize': u'fit', u'w': 620}, u'small': {u'h': 387, u'resize': u'fit', u'w': 620}, u'medium': {u'h': 387, u'resize': u'fit', u'w': 620}, u'thumb': {u'h': 150, u'resize': u'crop', u'w': 150}}, u'indices': [18, 41], u'type': u'photo', u'id': 782979687236702209L, u'media_url': u'http://pbs.twimg.com/media/Ct2z4IwXEAEldLv.jpg'}]}, retweeted=False)"
      ]
     },
     "execution_count": 4,
     "metadata": {},
     "output_type": "execute_result"
    }
   ],
   "source": [
    "api.update_with_media(filename=\"Grumpy_Cat.jpg\",status=\"test media update\")"
   ]
  },
  {
   "cell_type": "code",
   "execution_count": null,
   "metadata": {
    "collapsed": true
   },
   "outputs": [],
   "source": []
  }
 ],
 "metadata": {
  "kernelspec": {
   "display_name": "Python 2",
   "language": "python",
   "name": "python2"
  },
  "language_info": {
   "codemirror_mode": {
    "name": "ipython",
    "version": 2
   },
   "file_extension": ".py",
   "mimetype": "text/x-python",
   "name": "python",
   "nbconvert_exporter": "python",
   "pygments_lexer": "ipython2",
   "version": "2.7.11"
  }
 },
 "nbformat": 4,
 "nbformat_minor": 0
}
