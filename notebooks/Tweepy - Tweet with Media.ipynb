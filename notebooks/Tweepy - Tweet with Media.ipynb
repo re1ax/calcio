{
 "cells": [
  {
   "cell_type": "code",
   "execution_count": 4,
   "metadata": {
    "collapsed": false
   },
   "outputs": [],
   "source": [
    "import tweepy\n",
    "CONSUMER_KEY = 'ThDWCf0mSyZCCwTysWs8iw4yI'\n",
    "CONSUMER_SECRET = 'nubL5kM94X1J1KmjArg7HTGixnDhy55dGaeQGjiL7635cKV14S'\n",
    "OAUTH_TOKEN = '65637839-MhTOGUMKlYD7TqK1UdCC7iZ23f20R16siEwy5kTXU'\n",
    "OAUTH_TOKEN_SECRET = 'Uh5wLgRslnsSNYjmU4gGXbtcVUmGRkdUqXxvzr6ltdojz'"
   ]
  },
  {
   "cell_type": "code",
   "execution_count": 5,
   "metadata": {
    "collapsed": false
   },
   "outputs": [
    {
     "name": "stdout",
     "output_type": "stream",
     "text": [
      "New York Times reporter on Trump taxes story: It's not 'a crime to check your mailbox' https://t.co/ProHE8kt4D https://t.co/hyP31amBlZ\n",
      "RT @caldarolaf: le cravatte di @DM_Deluca a @SundayTabloid sono già cult #SundayTabloid https://t.co/knASbpKgSP\n",
      "Watch an #iPhone 7 get boiled, bent, shot, and squished in the best torture tests https://t.co/udU4XrABmk https://t.co/dHufmLsbRd\n",
      "#DeepLearning Adversarial Examples  Clarifying Misconceptions #KDN https://t.co/6KZdQFlVVL\n",
      "Un ora e mezza con la vespa a chiavi inserite ed è ancora lì . Grazie ladro,non lo faccio più!😜 https://t.co/G616n0LTXz\n",
      "RT @katiemccauley_: Filming day! Some more 🍸 videos heading to https://t.co/uopsJMtL7V very soon. @barstooltheory @shwood @CaptainMurphy #r…\n",
      "Was Criss Angel just really hungry?  Is that why he ate all those camera lenses?\n",
      "No service: Morden - Kennington due to signal failure at Stockwell. \n",
      "Severe delays on rest of the line.\n",
      "How does @SlackHQ build their native app with the latest and greatest web technologies? https://t.co/bpC3iUANxR\n",
      "Sconcerti: \"Hernanes? E' cresciuto molto alla Juve per due motivi\" - https://t.co/bcCPX7ODQi https://t.co/E0TzoFgCoo\n",
      "#Tech #Jobs @Viewpost is seeking a Junior Product Manager to join their team &gt;&gt; https://t.co/nHX72LlecH https://t.co/A6q4GbmsgF\n",
      "R News https://t.co/mS8SqR9LZS - top stories by @psychpystats, @DarioHer0074, @tylerrinker\n",
      "Biggest Issues in #DataScience: Solving the Wrong Problem! https://t.co/HSk3daTqEI #BigData by @Claudia_Perlich HT… https://t.co/XFJPba3fUR\n",
      "How to study for knowledge when the world wants you to study for money https://t.co/RE9vBo0V9H https://t.co/mtZWX8ikX7\n",
      "#LastTimeTrumpPaidTaxes: Internet reacts to #Trump’s ‘zero #tax’ return report https://t.co/vKckqG2Fdl https://t.co/Z1NUmVtFP4\n",
      "\"Sergenti di ferro\": #RomaInter sarà la partita degli allenatori che non  guardano in faccia a nessuno 👊 #SkySerieA \n",
      "https://t.co/dkvOcb2Q6j\n",
      "Do Your #BigData #Analytics Measure or Predict? https://t.co/xSqiqaDxLD #DataScience #MachineLearning by @schmarzo https://t.co/uAZVHcItuM\n",
      "This feels like a dumb scrappy Arsenal goal hands them a meh win game. An Arsene classic, albeit one from 5ish years ago.\n",
      "#RomaInter, le ultimissime di formazione: torna #JoaoMario https://t.co/8PMWib78bx\n",
      "Good listeners are not only popular everywhere, but after awhile they know something.\n"
     ]
    }
   ],
   "source": [
    "auth = tweepy.OAuthHandler(CONSUMER_KEY, CONSUMER_SECRET)\n",
    "auth.set_access_token(OAUTH_TOKEN, OAUTH_TOKEN_SECRET)\n",
    "\n",
    "api = tweepy.API(auth)\n",
    "\n",
    "public_tweets = api.home_timeline()\n",
    "for tweet in public_tweets:\n",
    "    print tweet.text"
   ]
  },
  {
   "cell_type": "code",
   "execution_count": 6,
   "metadata": {
    "collapsed": false
   },
   "outputs": [
    {
     "data": {
      "text/plain": [
       "Status(contributors=None, truncated=False, text=u'test media update https://t.co/0Lk6NwXfrS', is_quote_status=False, in_reply_to_status_id=None, id=782627888994652161, favorite_count=0, _api=<tweepy.api.API object at 0x107c0f650>, author=User(follow_request_sent=False, has_extended_profile=False, profile_use_background_image=False, _json={u'follow_request_sent': False, u'has_extended_profile': False, u'profile_use_background_image': False, u'default_profile_image': False, u'id': 65637839, u'profile_background_image_url_https': u'https://abs.twimg.com/images/themes/theme12/bg.gif', u'verified': False, u'profile_text_color': u'000000', u'profile_image_url_https': u'https://pbs.twimg.com/profile_images/767482381527834624/3TDCuuOx_normal.jpg', u'profile_sidebar_fill_color': u'000000', u'entities': {u'description': {u'urls': []}}, u'followers_count': 84, u'profile_sidebar_border_color': u'000000', u'id_str': u'65637839', u'profile_background_color': u'000000', u'listed_count': 11, u'is_translation_enabled': False, u'utc_offset': 3600, u'statuses_count': 177, u'description': u'Data Scientist, Inter fan, Physics PhD \\nantoniotropiano@gmail.com', u'friends_count': 296, u'location': u'London, UK', u'profile_link_color': u'FF4500', u'profile_image_url': u'http://pbs.twimg.com/profile_images/767482381527834624/3TDCuuOx_normal.jpg', u'following': False, u'geo_enabled': False, u'profile_banner_url': u'https://pbs.twimg.com/profile_banners/65637839/1461403959', u'profile_background_image_url': u'http://abs.twimg.com/images/themes/theme12/bg.gif', u'screen_name': u'tropianhs', u'lang': u'en', u'profile_background_tile': False, u'favourites_count': 95, u'name': u'Antonio Tropiano', u'notifications': False, u'url': None, u'created_at': u'Fri Aug 14 13:46:00 +0000 2009', u'contributors_enabled': False, u'time_zone': u'London', u'protected': False, u'default_profile': False, u'is_translator': False}, time_zone=u'London', id=65637839, _api=<tweepy.api.API object at 0x107c0f650>, verified=False, profile_text_color=u'000000', profile_image_url_https=u'https://pbs.twimg.com/profile_images/767482381527834624/3TDCuuOx_normal.jpg', profile_sidebar_fill_color=u'000000', is_translator=False, geo_enabled=False, entities={u'description': {u'urls': []}}, followers_count=84, protected=False, id_str=u'65637839', default_profile_image=False, listed_count=11, lang=u'en', utc_offset=3600, statuses_count=177, description=u'Data Scientist, Inter fan, Physics PhD \\nantoniotropiano@gmail.com', friends_count=296, profile_link_color=u'FF4500', profile_image_url=u'http://pbs.twimg.com/profile_images/767482381527834624/3TDCuuOx_normal.jpg', notifications=False, profile_background_image_url_https=u'https://abs.twimg.com/images/themes/theme12/bg.gif', profile_background_color=u'000000', profile_banner_url=u'https://pbs.twimg.com/profile_banners/65637839/1461403959', profile_background_image_url=u'http://abs.twimg.com/images/themes/theme12/bg.gif', name=u'Antonio Tropiano', is_translation_enabled=False, profile_background_tile=False, favourites_count=95, screen_name=u'tropianhs', url=None, created_at=datetime.datetime(2009, 8, 14, 13, 46), contributors_enabled=False, location=u'London, UK', profile_sidebar_border_color=u'000000', default_profile=False, following=False), _json={u'contributors': None, u'truncated': False, u'text': u'test media update https://t.co/0Lk6NwXfrS', u'is_quote_status': False, u'in_reply_to_status_id': None, u'id': 782627888994652161, u'favorite_count': 0, u'source': u'<a href=\"http://tropianh5.altervista.orfg\" rel=\"nofollow\">Test App Tropianhs</a>', u'retweeted': False, u'coordinates': None, u'entities': {u'symbols': [], u'user_mentions': [], u'hashtags': [], u'urls': [], u'media': [{u'expanded_url': u'https://twitter.com/tropianhs/status/782627888994652161/photo/1', u'display_url': u'pic.twitter.com/0Lk6NwXfrS', u'url': u'https://t.co/0Lk6NwXfrS', u'media_url_https': u'https://pbs.twimg.com/media/Ctxz6sCXgAAwcD-.jpg', u'id_str': u'782627887346319360', u'sizes': {u'large': {u'h': 387, u'resize': u'fit', u'w': 620}, u'small': {u'h': 387, u'resize': u'fit', u'w': 620}, u'medium': {u'h': 387, u'resize': u'fit', u'w': 620}, u'thumb': {u'h': 150, u'resize': u'crop', u'w': 150}}, u'indices': [18, 41], u'type': u'photo', u'id': 782627887346319360, u'media_url': u'http://pbs.twimg.com/media/Ctxz6sCXgAAwcD-.jpg'}]}, u'in_reply_to_screen_name': None, u'in_reply_to_user_id': None, u'retweet_count': 0, u'id_str': u'782627888994652161', u'favorited': False, u'user': {u'follow_request_sent': False, u'has_extended_profile': False, u'profile_use_background_image': False, u'default_profile_image': False, u'id': 65637839, u'profile_background_image_url_https': u'https://abs.twimg.com/images/themes/theme12/bg.gif', u'verified': False, u'profile_text_color': u'000000', u'profile_image_url_https': u'https://pbs.twimg.com/profile_images/767482381527834624/3TDCuuOx_normal.jpg', u'profile_sidebar_fill_color': u'000000', u'entities': {u'description': {u'urls': []}}, u'followers_count': 84, u'profile_sidebar_border_color': u'000000', u'id_str': u'65637839', u'profile_background_color': u'000000', u'listed_count': 11, u'is_translation_enabled': False, u'utc_offset': 3600, u'statuses_count': 177, u'description': u'Data Scientist, Inter fan, Physics PhD \\nantoniotropiano@gmail.com', u'friends_count': 296, u'location': u'London, UK', u'profile_link_color': u'FF4500', u'profile_image_url': u'http://pbs.twimg.com/profile_images/767482381527834624/3TDCuuOx_normal.jpg', u'following': False, u'geo_enabled': False, u'profile_banner_url': u'https://pbs.twimg.com/profile_banners/65637839/1461403959', u'profile_background_image_url': u'http://abs.twimg.com/images/themes/theme12/bg.gif', u'screen_name': u'tropianhs', u'lang': u'en', u'profile_background_tile': False, u'favourites_count': 95, u'name': u'Antonio Tropiano', u'notifications': False, u'url': None, u'created_at': u'Fri Aug 14 13:46:00 +0000 2009', u'contributors_enabled': False, u'time_zone': u'London', u'protected': False, u'default_profile': False, u'is_translator': False}, u'geo': None, u'in_reply_to_user_id_str': None, u'possibly_sensitive': False, u'lang': u'en', u'created_at': u'Sun Oct 02 17:06:43 +0000 2016', u'in_reply_to_status_id_str': None, u'place': None, u'extended_entities': {u'media': [{u'expanded_url': u'https://twitter.com/tropianhs/status/782627888994652161/photo/1', u'display_url': u'pic.twitter.com/0Lk6NwXfrS', u'url': u'https://t.co/0Lk6NwXfrS', u'media_url_https': u'https://pbs.twimg.com/media/Ctxz6sCXgAAwcD-.jpg', u'id_str': u'782627887346319360', u'sizes': {u'large': {u'h': 387, u'resize': u'fit', u'w': 620}, u'small': {u'h': 387, u'resize': u'fit', u'w': 620}, u'medium': {u'h': 387, u'resize': u'fit', u'w': 620}, u'thumb': {u'h': 150, u'resize': u'crop', u'w': 150}}, u'indices': [18, 41], u'type': u'photo', u'id': 782627887346319360, u'media_url': u'http://pbs.twimg.com/media/Ctxz6sCXgAAwcD-.jpg'}]}}, coordinates=None, entities={u'symbols': [], u'user_mentions': [], u'hashtags': [], u'urls': [], u'media': [{u'expanded_url': u'https://twitter.com/tropianhs/status/782627888994652161/photo/1', u'display_url': u'pic.twitter.com/0Lk6NwXfrS', u'url': u'https://t.co/0Lk6NwXfrS', u'media_url_https': u'https://pbs.twimg.com/media/Ctxz6sCXgAAwcD-.jpg', u'id_str': u'782627887346319360', u'sizes': {u'large': {u'h': 387, u'resize': u'fit', u'w': 620}, u'small': {u'h': 387, u'resize': u'fit', u'w': 620}, u'medium': {u'h': 387, u'resize': u'fit', u'w': 620}, u'thumb': {u'h': 150, u'resize': u'crop', u'w': 150}}, u'indices': [18, 41], u'type': u'photo', u'id': 782627887346319360, u'media_url': u'http://pbs.twimg.com/media/Ctxz6sCXgAAwcD-.jpg'}]}, in_reply_to_screen_name=None, id_str=u'782627888994652161', retweet_count=0, in_reply_to_user_id=None, favorited=False, source_url=u'http://tropianh5.altervista.orfg', user=User(follow_request_sent=False, has_extended_profile=False, profile_use_background_image=False, _json={u'follow_request_sent': False, u'has_extended_profile': False, u'profile_use_background_image': False, u'default_profile_image': False, u'id': 65637839, u'profile_background_image_url_https': u'https://abs.twimg.com/images/themes/theme12/bg.gif', u'verified': False, u'profile_text_color': u'000000', u'profile_image_url_https': u'https://pbs.twimg.com/profile_images/767482381527834624/3TDCuuOx_normal.jpg', u'profile_sidebar_fill_color': u'000000', u'entities': {u'description': {u'urls': []}}, u'followers_count': 84, u'profile_sidebar_border_color': u'000000', u'id_str': u'65637839', u'profile_background_color': u'000000', u'listed_count': 11, u'is_translation_enabled': False, u'utc_offset': 3600, u'statuses_count': 177, u'description': u'Data Scientist, Inter fan, Physics PhD \\nantoniotropiano@gmail.com', u'friends_count': 296, u'location': u'London, UK', u'profile_link_color': u'FF4500', u'profile_image_url': u'http://pbs.twimg.com/profile_images/767482381527834624/3TDCuuOx_normal.jpg', u'following': False, u'geo_enabled': False, u'profile_banner_url': u'https://pbs.twimg.com/profile_banners/65637839/1461403959', u'profile_background_image_url': u'http://abs.twimg.com/images/themes/theme12/bg.gif', u'screen_name': u'tropianhs', u'lang': u'en', u'profile_background_tile': False, u'favourites_count': 95, u'name': u'Antonio Tropiano', u'notifications': False, u'url': None, u'created_at': u'Fri Aug 14 13:46:00 +0000 2009', u'contributors_enabled': False, u'time_zone': u'London', u'protected': False, u'default_profile': False, u'is_translator': False}, time_zone=u'London', id=65637839, _api=<tweepy.api.API object at 0x107c0f650>, verified=False, profile_text_color=u'000000', profile_image_url_https=u'https://pbs.twimg.com/profile_images/767482381527834624/3TDCuuOx_normal.jpg', profile_sidebar_fill_color=u'000000', is_translator=False, geo_enabled=False, entities={u'description': {u'urls': []}}, followers_count=84, protected=False, id_str=u'65637839', default_profile_image=False, listed_count=11, lang=u'en', utc_offset=3600, statuses_count=177, description=u'Data Scientist, Inter fan, Physics PhD \\nantoniotropiano@gmail.com', friends_count=296, profile_link_color=u'FF4500', profile_image_url=u'http://pbs.twimg.com/profile_images/767482381527834624/3TDCuuOx_normal.jpg', notifications=False, profile_background_image_url_https=u'https://abs.twimg.com/images/themes/theme12/bg.gif', profile_background_color=u'000000', profile_banner_url=u'https://pbs.twimg.com/profile_banners/65637839/1461403959', profile_background_image_url=u'http://abs.twimg.com/images/themes/theme12/bg.gif', name=u'Antonio Tropiano', is_translation_enabled=False, profile_background_tile=False, favourites_count=95, screen_name=u'tropianhs', url=None, created_at=datetime.datetime(2009, 8, 14, 13, 46), contributors_enabled=False, location=u'London, UK', profile_sidebar_border_color=u'000000', default_profile=False, following=False), geo=None, in_reply_to_user_id_str=None, possibly_sensitive=False, lang=u'en', created_at=datetime.datetime(2016, 10, 2, 17, 6, 43), in_reply_to_status_id_str=None, place=None, source=u'Test App Tropianhs', extended_entities={u'media': [{u'expanded_url': u'https://twitter.com/tropianhs/status/782627888994652161/photo/1', u'display_url': u'pic.twitter.com/0Lk6NwXfrS', u'url': u'https://t.co/0Lk6NwXfrS', u'media_url_https': u'https://pbs.twimg.com/media/Ctxz6sCXgAAwcD-.jpg', u'id_str': u'782627887346319360', u'sizes': {u'large': {u'h': 387, u'resize': u'fit', u'w': 620}, u'small': {u'h': 387, u'resize': u'fit', u'w': 620}, u'medium': {u'h': 387, u'resize': u'fit', u'w': 620}, u'thumb': {u'h': 150, u'resize': u'crop', u'w': 150}}, u'indices': [18, 41], u'type': u'photo', u'id': 782627887346319360, u'media_url': u'http://pbs.twimg.com/media/Ctxz6sCXgAAwcD-.jpg'}]}, retweeted=False)"
      ]
     },
     "execution_count": 6,
     "metadata": {},
     "output_type": "execute_result"
    }
   ],
   "source": [
    "api.update_with_media(filename=\"Grumpy_Cat.jpg\",status=\"test media update\")"
   ]
  },
  {
   "cell_type": "code",
   "execution_count": null,
   "metadata": {
    "collapsed": true
   },
   "outputs": [],
   "source": []
  }
 ],
 "metadata": {
  "kernelspec": {
   "display_name": "Python 2",
   "language": "python",
   "name": "python2"
  },
  "language_info": {
   "codemirror_mode": {
    "name": "ipython",
    "version": 2
   },
   "file_extension": ".py",
   "mimetype": "text/x-python",
   "name": "python",
   "nbconvert_exporter": "python",
   "pygments_lexer": "ipython2",
   "version": "2.7.10"
  }
 },
 "nbformat": 4,
 "nbformat_minor": 0
}
