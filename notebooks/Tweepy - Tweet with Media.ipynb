{
 "cells": [
  {
   "cell_type": "code",
   "execution_count": 2,
   "metadata": {
    "collapsed": false
   },
   "outputs": [],
   "source": [
    "import tweepy\n",
    "import json"
   ]
  },
  {
   "cell_type": "code",
   "execution_count": 6,
   "metadata": {
    "collapsed": false
   },
   "outputs": [],
   "source": [
    "with open('../data/credentials.json', 'r') as fp:\n",
    "    api_cred = json.load(fp)\n",
    "    \n",
    "CONSUMER_KEY = api_cred[\"CONSUMER_KEY\"]\n",
    "CONSUMER_SECRET = api_cred[\"CONSUMER_SECRET\"]\n",
    "OAUTH_TOKEN = api_cred[\"OAUTH_TOKEN\"]\n",
    "OAUTH_TOKEN_SECRET = api_cred[\"OAUTH_SECRET\"]"
   ]
  },
  {
   "cell_type": "code",
   "execution_count": 7,
   "metadata": {
    "collapsed": false
   },
   "outputs": [
    {
     "name": "stdout",
     "output_type": "stream",
     "text": [
      "Watching @MessiSeconds stream #FIFA17 and it's literally the most confusing thing I've ever seen.\n",
      "Which do you prefer to watch and follow?\n",
      "RT @EuanDewar: Hey, @MessiSeconds is streaming some fakeball. Come hang out buddy https://t.co/iI7LgkIZqQ\n",
      "EPL Match week 7 Probabilities review https://t.co/mAj3hn0wiX\n",
      "@deepxg well twitter's just compressed that to bollocks and it doesn't even loop, shai'tan take my #brand.\n",
      "A quick look in on the teams working tirelessly to bring you New Analytics: https://t.co/axbhhNXq26\n",
      "RT @duncanrobinson: The new old lie: \"Dulce et decorum est to quit an economic bloc to gain control over railway platform height (that you…\n",
      "@Goalimpact Precisely, that was the point. Just wanted to check.\n",
      "@SimonGleave reasoning: with ten observations (500/50) we would expect one outside the 5%/95% range. Exactly what we observe.\n",
      "@Goalimpact So how do I interpret the current state, where the line has fallen outside the confidence limits?Also random because so many pts\n",
      "@SimonGleave so rather random\n",
      "Same graph with 95% confidence limits https://t.co/pglfJ6Yr9Q\n",
      "Tomorrow from 4-6 I will be in London, somewhere around Goodge St tube station. Find me and I buy you a beer. (First 50 only.)\n",
      "@SimonGleave depends on the underlying process\n",
      "Very active role for Oussama Tannane here, but it doesn't look like a well tuned offense for #ASSE.\n",
      "#passmap https://t.co/CYDGUPGCK7\n",
      "Interesting approach by #OL, with three switching central midfielders.\n",
      "Curious to know what Nabil Fekir can do.… https://t.co/teKcWT5EBr\n",
      "Lyon beat #ASSE, but most of their threat came late, when #ASSE needed to take risks for the equalizer.\n",
      "#xGplot https://t.co/5XmzfR7GQs\n",
      "Does the last drop-off on this graph look like a real or random effect - it is a rolling average based on last 50 i… https://t.co/SthlRDV8Vr\n",
      "Week 7: SoT%'s https://t.co/wHasvBC8UF\n",
      "Neither Everton (high) or West Ham (low) can continue with those rates on either side of the ball.\n",
      "RT @AndrewDasNYT: Via @RorySmith: it was Swansea's Welsh chairman, not the new U.S. owners, who was most impressed by his prep. https://t.c…\n"
     ]
    }
   ],
   "source": [
    "auth = tweepy.OAuthHandler(CONSUMER_KEY, CONSUMER_SECRET)\n",
    "auth.set_access_token(OAUTH_TOKEN, OAUTH_TOKEN_SECRET)\n",
    "\n",
    "api = tweepy.API(auth)\n",
    "\n",
    "public_tweets = api.home_timeline()\n",
    "for tweet in public_tweets:\n",
    "    print tweet.text"
   ]
  },
  {
   "cell_type": "code",
   "execution_count": 4,
   "metadata": {
    "collapsed": false
   },
   "outputs": [
    {
     "data": {
      "text/plain": [
       "Status(contributors=None, truncated=False, text=u'test media update https://t.co/XtPzDyfsZp', is_quote_status=False, in_reply_to_status_id=None, id=782979688960491520L, favorite_count=0, _api=<tweepy.api.API object at 0x0000000003EA5780>, author=User(follow_request_sent=False, has_extended_profile=False, profile_use_background_image=True, _json={u'follow_request_sent': False, u'has_extended_profile': False, u'profile_use_background_image': True, u'default_profile_image': False, u'id': 782339679035199492L, u'profile_background_image_url_https': None, u'verified': False, u'profile_text_color': u'333333', u'profile_image_url_https': u'https://pbs.twimg.com/profile_images/782342431866060800/4eDSRcK2_normal.jpg', u'profile_sidebar_fill_color': u'DDEEF6', u'entities': {u'description': {u'urls': []}}, u'followers_count': 2, u'profile_sidebar_border_color': u'C0DEED', u'id_str': u'782339679035199492', u'profile_background_color': u'F5F8FA', u'listed_count': 0, u'is_translation_enabled': False, u'utc_offset': None, u'statuses_count': 2, u'description': u'Data Science applied to football. Mostly Serie A.', u'friends_count': 26, u'location': u'London, England', u'profile_link_color': u'2B7BB9', u'profile_image_url': u'http://pbs.twimg.com/profile_images/782342431866060800/4eDSRcK2_normal.jpg', u'following': False, u'geo_enabled': False, u'profile_banner_url': u'https://pbs.twimg.com/profile_banners/782339679035199492/1475360804', u'profile_background_image_url': None, u'screen_name': u'analytics_trop', u'lang': u'en', u'profile_background_tile': False, u'favourites_count': 0, u'name': u'tropianhs_analytics', u'notifications': False, u'url': None, u'created_at': u'Sat Oct 01 22:01:29 +0000 2016', u'contributors_enabled': False, u'time_zone': None, u'protected': False, u'default_profile': True, u'is_translator': False}, time_zone=None, id=782339679035199492L, _api=<tweepy.api.API object at 0x0000000003EA5780>, verified=False, profile_text_color=u'333333', profile_image_url_https=u'https://pbs.twimg.com/profile_images/782342431866060800/4eDSRcK2_normal.jpg', profile_sidebar_fill_color=u'DDEEF6', is_translator=False, geo_enabled=False, entities={u'description': {u'urls': []}}, followers_count=2, protected=False, id_str=u'782339679035199492', default_profile_image=False, listed_count=0, lang=u'en', utc_offset=None, statuses_count=2, description=u'Data Science applied to football. Mostly Serie A.', friends_count=26, profile_link_color=u'2B7BB9', profile_image_url=u'http://pbs.twimg.com/profile_images/782342431866060800/4eDSRcK2_normal.jpg', notifications=False, profile_background_image_url_https=None, profile_background_color=u'F5F8FA', profile_banner_url=u'https://pbs.twimg.com/profile_banners/782339679035199492/1475360804', profile_background_image_url=None, name=u'tropianhs_analytics', is_translation_enabled=False, profile_background_tile=False, favourites_count=0, screen_name=u'analytics_trop', url=None, created_at=datetime.datetime(2016, 10, 1, 22, 1, 29), contributors_enabled=False, location=u'London, England', profile_sidebar_border_color=u'C0DEED', default_profile=True, following=False), _json={u'contributors': None, u'truncated': False, u'text': u'test media update https://t.co/XtPzDyfsZp', u'is_quote_status': False, u'in_reply_to_status_id': None, u'id': 782979688960491520L, u'favorite_count': 0, u'source': u'<a href=\"http://tropiano.github.io\" rel=\"nofollow\">calciostats</a>', u'retweeted': False, u'coordinates': None, u'entities': {u'symbols': [], u'user_mentions': [], u'hashtags': [], u'urls': [], u'media': [{u'expanded_url': u'https://twitter.com/analytics_trop/status/782979688960491520/photo/1', u'display_url': u'pic.twitter.com/XtPzDyfsZp', u'url': u'https://t.co/XtPzDyfsZp', u'media_url_https': u'https://pbs.twimg.com/media/Ct2z4IwXEAEldLv.jpg', u'id_str': u'782979687236702209', u'sizes': {u'large': {u'h': 387, u'resize': u'fit', u'w': 620}, u'small': {u'h': 387, u'resize': u'fit', u'w': 620}, u'medium': {u'h': 387, u'resize': u'fit', u'w': 620}, u'thumb': {u'h': 150, u'resize': u'crop', u'w': 150}}, u'indices': [18, 41], u'type': u'photo', u'id': 782979687236702209L, u'media_url': u'http://pbs.twimg.com/media/Ct2z4IwXEAEldLv.jpg'}]}, u'in_reply_to_screen_name': None, u'in_reply_to_user_id': None, u'retweet_count': 0, u'id_str': u'782979688960491520', u'favorited': False, u'user': {u'follow_request_sent': False, u'has_extended_profile': False, u'profile_use_background_image': True, u'default_profile_image': False, u'id': 782339679035199492L, u'profile_background_image_url_https': None, u'verified': False, u'profile_text_color': u'333333', u'profile_image_url_https': u'https://pbs.twimg.com/profile_images/782342431866060800/4eDSRcK2_normal.jpg', u'profile_sidebar_fill_color': u'DDEEF6', u'entities': {u'description': {u'urls': []}}, u'followers_count': 2, u'profile_sidebar_border_color': u'C0DEED', u'id_str': u'782339679035199492', u'profile_background_color': u'F5F8FA', u'listed_count': 0, u'is_translation_enabled': False, u'utc_offset': None, u'statuses_count': 2, u'description': u'Data Science applied to football. Mostly Serie A.', u'friends_count': 26, u'location': u'London, England', u'profile_link_color': u'2B7BB9', u'profile_image_url': u'http://pbs.twimg.com/profile_images/782342431866060800/4eDSRcK2_normal.jpg', u'following': False, u'geo_enabled': False, u'profile_banner_url': u'https://pbs.twimg.com/profile_banners/782339679035199492/1475360804', u'profile_background_image_url': None, u'screen_name': u'analytics_trop', u'lang': u'en', u'profile_background_tile': False, u'favourites_count': 0, u'name': u'tropianhs_analytics', u'notifications': False, u'url': None, u'created_at': u'Sat Oct 01 22:01:29 +0000 2016', u'contributors_enabled': False, u'time_zone': None, u'protected': False, u'default_profile': True, u'is_translator': False}, u'geo': None, u'in_reply_to_user_id_str': None, u'possibly_sensitive': False, u'lang': u'en', u'created_at': u'Mon Oct 03 16:24:39 +0000 2016', u'in_reply_to_status_id_str': None, u'place': None, u'extended_entities': {u'media': [{u'expanded_url': u'https://twitter.com/analytics_trop/status/782979688960491520/photo/1', u'display_url': u'pic.twitter.com/XtPzDyfsZp', u'url': u'https://t.co/XtPzDyfsZp', u'media_url_https': u'https://pbs.twimg.com/media/Ct2z4IwXEAEldLv.jpg', u'id_str': u'782979687236702209', u'sizes': {u'large': {u'h': 387, u'resize': u'fit', u'w': 620}, u'small': {u'h': 387, u'resize': u'fit', u'w': 620}, u'medium': {u'h': 387, u'resize': u'fit', u'w': 620}, u'thumb': {u'h': 150, u'resize': u'crop', u'w': 150}}, u'indices': [18, 41], u'type': u'photo', u'id': 782979687236702209L, u'media_url': u'http://pbs.twimg.com/media/Ct2z4IwXEAEldLv.jpg'}]}}, coordinates=None, entities={u'symbols': [], u'user_mentions': [], u'hashtags': [], u'urls': [], u'media': [{u'expanded_url': u'https://twitter.com/analytics_trop/status/782979688960491520/photo/1', u'display_url': u'pic.twitter.com/XtPzDyfsZp', u'url': u'https://t.co/XtPzDyfsZp', u'media_url_https': u'https://pbs.twimg.com/media/Ct2z4IwXEAEldLv.jpg', u'id_str': u'782979687236702209', u'sizes': {u'large': {u'h': 387, u'resize': u'fit', u'w': 620}, u'small': {u'h': 387, u'resize': u'fit', u'w': 620}, u'medium': {u'h': 387, u'resize': u'fit', u'w': 620}, u'thumb': {u'h': 150, u'resize': u'crop', u'w': 150}}, u'indices': [18, 41], u'type': u'photo', u'id': 782979687236702209L, u'media_url': u'http://pbs.twimg.com/media/Ct2z4IwXEAEldLv.jpg'}]}, in_reply_to_screen_name=None, id_str=u'782979688960491520', retweet_count=0, in_reply_to_user_id=None, favorited=False, source_url=u'http://tropiano.github.io', user=User(follow_request_sent=False, has_extended_profile=False, profile_use_background_image=True, _json={u'follow_request_sent': False, u'has_extended_profile': False, u'profile_use_background_image': True, u'default_profile_image': False, u'id': 782339679035199492L, u'profile_background_image_url_https': None, u'verified': False, u'profile_text_color': u'333333', u'profile_image_url_https': u'https://pbs.twimg.com/profile_images/782342431866060800/4eDSRcK2_normal.jpg', u'profile_sidebar_fill_color': u'DDEEF6', u'entities': {u'description': {u'urls': []}}, u'followers_count': 2, u'profile_sidebar_border_color': u'C0DEED', u'id_str': u'782339679035199492', u'profile_background_color': u'F5F8FA', u'listed_count': 0, u'is_translation_enabled': False, u'utc_offset': None, u'statuses_count': 2, u'description': u'Data Science applied to football. Mostly Serie A.', u'friends_count': 26, u'location': u'London, England', u'profile_link_color': u'2B7BB9', u'profile_image_url': u'http://pbs.twimg.com/profile_images/782342431866060800/4eDSRcK2_normal.jpg', u'following': False, u'geo_enabled': False, u'profile_banner_url': u'https://pbs.twimg.com/profile_banners/782339679035199492/1475360804', u'profile_background_image_url': None, u'screen_name': u'analytics_trop', u'lang': u'en', u'profile_background_tile': False, u'favourites_count': 0, u'name': u'tropianhs_analytics', u'notifications': False, u'url': None, u'created_at': u'Sat Oct 01 22:01:29 +0000 2016', u'contributors_enabled': False, u'time_zone': None, u'protected': False, u'default_profile': True, u'is_translator': False}, time_zone=None, id=782339679035199492L, _api=<tweepy.api.API object at 0x0000000003EA5780>, verified=False, profile_text_color=u'333333', profile_image_url_https=u'https://pbs.twimg.com/profile_images/782342431866060800/4eDSRcK2_normal.jpg', profile_sidebar_fill_color=u'DDEEF6', is_translator=False, geo_enabled=False, entities={u'description': {u'urls': []}}, followers_count=2, protected=False, id_str=u'782339679035199492', default_profile_image=False, listed_count=0, lang=u'en', utc_offset=None, statuses_count=2, description=u'Data Science applied to football. Mostly Serie A.', friends_count=26, profile_link_color=u'2B7BB9', profile_image_url=u'http://pbs.twimg.com/profile_images/782342431866060800/4eDSRcK2_normal.jpg', notifications=False, profile_background_image_url_https=None, profile_background_color=u'F5F8FA', profile_banner_url=u'https://pbs.twimg.com/profile_banners/782339679035199492/1475360804', profile_background_image_url=None, name=u'tropianhs_analytics', is_translation_enabled=False, profile_background_tile=False, favourites_count=0, screen_name=u'analytics_trop', url=None, created_at=datetime.datetime(2016, 10, 1, 22, 1, 29), contributors_enabled=False, location=u'London, England', profile_sidebar_border_color=u'C0DEED', default_profile=True, following=False), geo=None, in_reply_to_user_id_str=None, possibly_sensitive=False, lang=u'en', created_at=datetime.datetime(2016, 10, 3, 16, 24, 39), in_reply_to_status_id_str=None, place=None, source=u'calciostats', extended_entities={u'media': [{u'expanded_url': u'https://twitter.com/analytics_trop/status/782979688960491520/photo/1', u'display_url': u'pic.twitter.com/XtPzDyfsZp', u'url': u'https://t.co/XtPzDyfsZp', u'media_url_https': u'https://pbs.twimg.com/media/Ct2z4IwXEAEldLv.jpg', u'id_str': u'782979687236702209', u'sizes': {u'large': {u'h': 387, u'resize': u'fit', u'w': 620}, u'small': {u'h': 387, u'resize': u'fit', u'w': 620}, u'medium': {u'h': 387, u'resize': u'fit', u'w': 620}, u'thumb': {u'h': 150, u'resize': u'crop', u'w': 150}}, u'indices': [18, 41], u'type': u'photo', u'id': 782979687236702209L, u'media_url': u'http://pbs.twimg.com/media/Ct2z4IwXEAEldLv.jpg'}]}, retweeted=False)"
      ]
     },
     "execution_count": 4,
     "metadata": {},
     "output_type": "execute_result"
    }
   ],
   "source": [
    "api.update_with_media(filename=\"Grumpy_Cat.jpg\",status=\"test media update\")"
   ]
  },
  {
   "cell_type": "code",
   "execution_count": null,
   "metadata": {
    "collapsed": true
   },
   "outputs": [],
   "source": []
  }
 ],
 "metadata": {
  "kernelspec": {
   "display_name": "Python 2",
   "language": "python",
   "name": "python2"
  },
  "language_info": {
   "codemirror_mode": {
    "name": "ipython",
    "version": 2
   },
   "file_extension": ".py",
   "mimetype": "text/x-python",
   "name": "python",
   "nbconvert_exporter": "python",
   "pygments_lexer": "ipython2",
   "version": "2.7.10"
  }
 },
 "nbformat": 4,
 "nbformat_minor": 0
}
