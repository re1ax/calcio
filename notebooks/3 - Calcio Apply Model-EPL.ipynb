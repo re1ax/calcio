{
 "cells": [
  {
   "cell_type": "code",
   "execution_count": 1,
   "metadata": {
    "collapsed": false
   },
   "outputs": [],
   "source": [
    "import pandas as pd \n",
    "from sklearn.externals import joblib\n",
    "import numpy as np\n"
   ]
  },
  {
   "cell_type": "code",
   "execution_count": 2,
   "metadata": {
    "collapsed": true
   },
   "outputs": [],
   "source": [
    "df_week = pd.read_csv(\"../data/EPL-1516.csv\")"
   ]
  },
  {
   "cell_type": "code",
   "execution_count": 3,
   "metadata": {
    "collapsed": true
   },
   "outputs": [],
   "source": [
    "def get_teams(df):\n",
    "    \n",
    "    teams = []\n",
    "    \n",
    "    for i,cal in enumerate(df.iterrows()):\n",
    "        teams.append(cal[1][\"HomeTeam\"])\n",
    "        teams.append(cal[1][\"AwayTeam\"])\n",
    "\n",
    "        if i == 9: \n",
    "            return teams\n"
   ]
  },
  {
   "cell_type": "code",
   "execution_count": 4,
   "metadata": {
    "collapsed": false
   },
   "outputs": [
    {
     "name": "stdout",
     "output_type": "stream",
     "text": [
      "['Bournemouth', 'Aston Villa', 'Chelsea', 'Swansea', 'Everton', 'Watford', 'Leicester', 'Sunderland', 'Man United', 'Tottenham', 'Norwich', 'Crystal Palace', 'Arsenal', 'West Ham', 'Newcastle', 'Southampton', 'Stoke', 'Liverpool', 'West Brom', 'Man City']\n"
     ]
    }
   ],
   "source": [
    "teams_1617 = get_teams(df_week)\n",
    "\n",
    "print teams_1617"
   ]
  },
  {
   "cell_type": "code",
   "execution_count": 5,
   "metadata": {
    "collapsed": true
   },
   "outputs": [],
   "source": [
    "def build_features(df, teams):\n",
    "\n",
    "    team_features = []\n",
    "    \n",
    "    for team in teams:\n",
    "        #print team_a\n",
    "        team_home = df[df['HomeTeam']==team]\n",
    "        team_away = df[df['AwayTeam']==team]\n",
    "        \n",
    "        #shots made\n",
    "        team_s    = team_away[\"AS\"].sum()  + team_home[\"HS\"].sum()\n",
    "        #shots on-target made\n",
    "        team_st   = team_away[\"AST\"].sum() + team_home[\"HST\"].sum()\n",
    "        #shots conceded\n",
    "        team_sc    = team_away[\"HS\"].sum()  + team_home[\"AS\"].sum()\n",
    "        #shots on-target conceded\n",
    "        team_stc   = team_away[\"HST\"].sum() + team_home[\"AST\"].sum()\n",
    "        #corners awarded\n",
    "        team_c    = team_away[\"AC\"].sum()  + team_home[\"HC\"].sum()\n",
    "        #corners conceded\n",
    "        team_cc    = team_away[\"HC\"].sum()  + team_home[\"AC\"].sum()\n",
    "\n",
    "        team_features.append([team_s,team_sc,team_st,team_stc,team_c,team_cc])\n",
    "\n",
    "    return team_features"
   ]
  },
  {
   "cell_type": "code",
   "execution_count": 6,
   "metadata": {
    "collapsed": true
   },
   "outputs": [],
   "source": [
    "def build_target(df, teams):\n",
    "\n",
    "    team_target = []\n",
    "    \n",
    "    for team in teams:\n",
    "        #print team_a\n",
    "        t      = df[(df['HomeTeam']==team) | (df['AwayTeam']==team)]\n",
    "        team_home = df[df['HomeTeam']==team]\n",
    "        team_away = df[df['AwayTeam']==team]\n",
    "\n",
    "        team_h_win = len(team_home[team_home['FTHG']>team_home['FTAG']])\n",
    "        team_a_win = len(team_away[team_away['FTAG']>team_away['FTHG']])\n",
    "        team_draw = len(t[t['FTAG']==t['FTHG']])\n",
    "\n",
    "        team_points = 3*team_a_win + 3*team_h_win + team_draw\n",
    "        team_target.append(team_points)\n",
    "\n",
    "    return team_target\n"
   ]
  },
  {
   "cell_type": "code",
   "execution_count": 7,
   "metadata": {
    "collapsed": false
   },
   "outputs": [],
   "source": [
    "targ_1617 = build_target(df_week, teams_1617)\n",
    "feat_1617 = build_features(df_week, teams_1617)"
   ]
  },
  {
   "cell_type": "code",
   "execution_count": 8,
   "metadata": {
    "collapsed": true
   },
   "outputs": [],
   "source": [
    "model_1 = joblib.load('../data/linreg_model_en.pkl')\n",
    "\n",
    "pred_1617 = model_1.predict(feat_1617)"
   ]
  },
  {
   "cell_type": "code",
   "execution_count": 9,
   "metadata": {
    "collapsed": false
   },
   "outputs": [],
   "source": [
    "#print pred_1617\n",
    "#print teams_1617\n",
    "ranking = []\n",
    "\n",
    "for t,p in zip(teams_1617,pred_1617):\n",
    "    ranking.append((t, p)) "
   ]
  },
  {
   "cell_type": "code",
   "execution_count": 10,
   "metadata": {
    "collapsed": false
   },
   "outputs": [
    {
     "name": "stdout",
     "output_type": "stream",
     "text": [
      "Tottenham 78.5832693539\n",
      "Liverpool 68.8392146069\n",
      "Man City 67.9356482457\n",
      "Arsenal 63.9678376583\n",
      "West Ham 59.1670232718\n",
      "Leicester 58.7052750627\n",
      "Southampton 56.0356134264\n",
      "Chelsea 53.3699763978\n",
      "Everton 51.3358196241\n",
      "Crystal Palace 48.0548435309\n",
      "Bournemouth 46.5020406134\n",
      "Man United 45.940733038\n",
      "Swansea 44.5297322704\n",
      "Watford 43.8125510149\n",
      "Newcastle 41.8693165841\n",
      "Stoke 41.1619267146\n",
      "Sunderland 40.9361584033\n",
      "Norwich 39.8360064136\n",
      "West Brom 36.8696108904\n",
      "Aston Villa 32.3865398779\n"
     ]
    }
   ],
   "source": [
    "ranking.sort(key=lambda x: x[1],reverse=True)\n",
    "for t,p in ranking:\n",
    "    print t,p"
   ]
  },
  {
   "cell_type": "code",
   "execution_count": 11,
   "metadata": {
    "collapsed": false
   },
   "outputs": [
    {
     "name": "stdout",
     "output_type": "stream",
     "text": [
      "[42, 17, 50, 47, 47, 45, 81, 39, 66, 70, 34, 42, 71, 62, 37, 63, 51, 60, 43, 66]\n",
      "Variance score: 0.63\n",
      "Residual sum of squares: 84.41\n"
     ]
    }
   ],
   "source": [
    "print targ_1617\n",
    "#Explained variance score: 1 is perfect prediction\n",
    "print('Variance score: %.2f' % model_1.score(feat_1617, targ_1617))\n",
    "print(\"Residual sum of squares: %.2f\"\n",
    "      % np.mean((model_1.predict(feat_1617) - targ_1617) ** 2))"
   ]
  },
  {
   "cell_type": "code",
   "execution_count": 12,
   "metadata": {
    "collapsed": true
   },
   "outputs": [],
   "source": [
    "model_1 = joblib.load('../data/regtree_model_en.pkl')\n",
    "\n",
    "pred_1617 = model_1.predict(feat_1617)"
   ]
  },
  {
   "cell_type": "code",
   "execution_count": 16,
   "metadata": {
    "collapsed": false
   },
   "outputs": [],
   "source": [
    "#print pred_1617\n",
    "#print teams_1617\n",
    "ranking = []\n",
    "\n",
    "for t,p,f in zip(teams_1617,pred_1617, targ_1617):\n",
    "    ranking.append((t, p, f)) "
   ]
  },
  {
   "cell_type": "code",
   "execution_count": 17,
   "metadata": {
    "collapsed": false
   },
   "outputs": [
    {
     "name": "stdout",
     "output_type": "stream",
     "text": [
      "Leicester 81.0 81\n",
      "Tottenham 74.375 70\n",
      "Arsenal 74.375 71\n",
      "Man City 74.375 66\n",
      "Man United 66.0 66\n",
      "West Ham 63.8181818182 62\n",
      "Southampton 63.8181818182 63\n",
      "Liverpool 63.8181818182 60\n",
      "Chelsea 50.0 50\n",
      "Bournemouth 44.5641025641 42\n",
      "Swansea 44.5641025641 47\n",
      "Everton 44.5641025641 47\n",
      "Watford 44.5641025641 45\n",
      "Sunderland 44.5641025641 39\n",
      "Crystal Palace 44.5641025641 42\n",
      "Newcastle 44.5641025641 37\n",
      "Stoke 44.5641025641 51\n",
      "Norwich 38.0 34\n",
      "West Brom 38.0 43\n",
      "Aston Villa 17.0 17\n"
     ]
    }
   ],
   "source": [
    "ranking.sort(key=lambda x: x[1],reverse=True)\n",
    "for t,p,f in ranking:\n",
    "    print t,p,f"
   ]
  },
  {
   "cell_type": "code",
   "execution_count": 15,
   "metadata": {
    "collapsed": false
   },
   "outputs": [
    {
     "name": "stdout",
     "output_type": "stream",
     "text": [
      "[42, 17, 50, 47, 47, 45, 81, 39, 66, 70, 34, 42, 71, 62, 37, 63, 51, 60, 43, 66]\n",
      "Variance score: 0.93\n",
      "Residual sum of squares: 15.75\n"
     ]
    }
   ],
   "source": [
    "print targ_1617\n",
    "#Explained variance score: 1 is perfect prediction\n",
    "print('Variance score: %.2f' % model_1.score(feat_1617, targ_1617))\n",
    "print(\"Residual sum of squares: %.2f\"\n",
    "      % np.mean((model_1.predict(feat_1617) - targ_1617) ** 2))"
   ]
  },
  {
   "cell_type": "code",
   "execution_count": null,
   "metadata": {
    "collapsed": true
   },
   "outputs": [],
   "source": []
  }
 ],
 "metadata": {
  "kernelspec": {
   "display_name": "Python 2",
   "language": "python",
   "name": "python2"
  },
  "language_info": {
   "codemirror_mode": {
    "name": "ipython",
    "version": 2
   },
   "file_extension": ".py",
   "mimetype": "text/x-python",
   "name": "python",
   "nbconvert_exporter": "python",
   "pygments_lexer": "ipython2",
   "version": "2.7.10"
  }
 },
 "nbformat": 4,
 "nbformat_minor": 0
}
