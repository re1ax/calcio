{
 "cells": [
  {
   "cell_type": "code",
   "execution_count": 1,
   "metadata": {
    "collapsed": true
   },
   "outputs": [],
   "source": [
    "import pandas as pd\n",
    "import numpy as np \n",
    "import matplotlib.pyplot as plt \n",
    "from pylab import *\n",
    "%matplotlib inline\n",
    "import numpy as np\n",
    "from sklearn import datasets, linear_model\n",
    "from sklearn import cross_validation as cv\n",
    "from sklearn.tree import DecisionTreeRegressor\n",
    "from sklearn.externals import joblib"
   ]
  },
  {
   "cell_type": "code",
   "execution_count": 2,
   "metadata": {
    "collapsed": false
   },
   "outputs": [
    {
     "name": "stdout",
     "output_type": "stream",
     "text": [
      "    shots  shots_ontarget  shots_conceded  shots_conceded_ontarget  corners  \\\n",
      "0     607             251             257                       83      228   \n",
      "1     373             466             136                      175      130   \n",
      "2     444             540             150                      186      128   \n",
      "3     331             421             128                      145      143   \n",
      "4     346             509             116                      159      117   \n",
      "5     380             507             126                      211      151   \n",
      "6     529             269             212                      110      191   \n",
      "7     454             455             191                      158      146   \n",
      "8     485             362             185                      143      217   \n",
      "9     379             533             134                      202      137   \n",
      "10    383             467             150                      165      145   \n",
      "11    422             366             128                      125      143   \n",
      "12    453             439             151                      173      148   \n",
      "13    487             491             163                      166      170   \n",
      "14    498             465             188                      208      224   \n",
      "15    416             487             164                      167      162   \n",
      "16    489             386             194                      152      168   \n",
      "17    368             430             136                      181      161   \n",
      "18    331             421             128                      145      143   \n",
      "19    453             439             151                      173      148   \n",
      "20    583             257             238                       95      222   \n",
      "21    522             418             205                      144      184   \n",
      "22    567             288             190                      112      206   \n",
      "23    554             299             192                      128      202   \n",
      "24    426             430             171                      195      157   \n",
      "25    385             515             158                      200      154   \n",
      "26    362             463             126                      161      142   \n",
      "27    364             494             114                      189      124   \n",
      "28    384             458             145                      161      181   \n",
      "29    418             537             153                      174      140   \n",
      "..    ...             ...             ...                      ...      ...   \n",
      "70    435             515             163                      186      147   \n",
      "71    365             453             134                      165      167   \n",
      "72    353             519             125                      170      136   \n",
      "73    409             443             155                      160      123   \n",
      "74    354             508             137                      212      143   \n",
      "75    495             376             198                      126      180   \n",
      "76    379             488             148                      179      147   \n",
      "77    383             418             147                      161      171   \n",
      "78    362             407             115                      149      137   \n",
      "79    360             465             118                      197      138   \n",
      "80    550             321             213                      112      171   \n",
      "81    438             489             160                      194      175   \n",
      "82    387             468             137                      185      136   \n",
      "83    405             446             145                      170      134   \n",
      "84    299             520             108                      193      127   \n",
      "85    412             403             164                      168      201   \n",
      "86    408             466             135                      183      163   \n",
      "87    452             416             146                      163      157   \n",
      "88    371             496             129                      181      146   \n",
      "89    418             364             139                      129      167   \n",
      "90    468             503             196                      167      178   \n",
      "91    461             444             186                      147      170   \n",
      "92    504             466             159                      182      171   \n",
      "93    415             474             139                      172      146   \n",
      "94    530             281             212                       87      215   \n",
      "95    439             388             168                      132      131   \n",
      "96    421             405             148                      153      163   \n",
      "97    432             460             183                      149      130   \n",
      "98    405             446             145                      170      134   \n",
      "99    421             405             148                      153      163   \n",
      "\n",
      "    corners_conceded  \n",
      "0                 86  \n",
      "1                182  \n",
      "2                190  \n",
      "3                153  \n",
      "4                204  \n",
      "5                207  \n",
      "6                110  \n",
      "7                137  \n",
      "8                140  \n",
      "9                207  \n",
      "10               175  \n",
      "11               138  \n",
      "12               183  \n",
      "13               179  \n",
      "14               142  \n",
      "15               190  \n",
      "16               144  \n",
      "17               142  \n",
      "18               153  \n",
      "19               183  \n",
      "20                92  \n",
      "21               153  \n",
      "22               110  \n",
      "23               140  \n",
      "24               168  \n",
      "25               170  \n",
      "26               198  \n",
      "27               180  \n",
      "28               170  \n",
      "29               168  \n",
      "..               ...  \n",
      "70               196  \n",
      "71               176  \n",
      "72               221  \n",
      "73               137  \n",
      "74               195  \n",
      "75               127  \n",
      "76               192  \n",
      "77               172  \n",
      "78               181  \n",
      "79               182  \n",
      "80               143  \n",
      "81               166  \n",
      "82               138  \n",
      "83               167  \n",
      "84               197  \n",
      "85               166  \n",
      "86               165  \n",
      "87               158  \n",
      "88               154  \n",
      "89               140  \n",
      "90               179  \n",
      "91               162  \n",
      "92               176  \n",
      "93               152  \n",
      "94               111  \n",
      "95               168  \n",
      "96               189  \n",
      "97               150  \n",
      "98               167  \n",
      "99               189  \n",
      "\n",
      "[100 rows x 6 columns]\n",
      "0     88\n",
      "1     41\n",
      "2     38\n",
      "3     50\n",
      "4     38\n",
      "5     25\n",
      "6     78\n",
      "7     55\n",
      "8     60\n",
      "9     37\n",
      "10    50\n",
      "11    40\n",
      "12    38\n",
      "13    52\n",
      "14    33\n",
      "15    43\n",
      "16    45\n",
      "17    36\n",
      "18    50\n",
      "19    38\n",
      "20    79\n",
      "21    69\n",
      "22    46\n",
      "23    61\n",
      "24    43\n",
      "25    34\n",
      "26    40\n",
      "27    35\n",
      "28    37\n",
      "29    48\n",
      "      ..\n",
      "70    48\n",
      "71    44\n",
      "72    47\n",
      "73    31\n",
      "74    45\n",
      "75    55\n",
      "76    43\n",
      "77    43\n",
      "78    42\n",
      "79    21\n",
      "80    81\n",
      "81    36\n",
      "82    38\n",
      "83    40\n",
      "84    30\n",
      "85    44\n",
      "86    48\n",
      "87    41\n",
      "88    31\n",
      "89    42\n",
      "90    53\n",
      "91    64\n",
      "92    42\n",
      "93    23\n",
      "94    73\n",
      "95    60\n",
      "96    39\n",
      "97    54\n",
      "98    40\n",
      "99    39\n",
      "Name: points, dtype: int64\n"
     ]
    }
   ],
   "source": [
    "#open the data file\n",
    "\n",
    "df = pd.DataFrame.from_csv(\"../data/proc_data_de.csv\")\n",
    "\n",
    "features = df[[\"shots\",\"shots_ontarget\",\"shots_conceded\",\"shots_conceded_ontarget\",\"corners\",\"corners_conceded\"]]\n",
    "target   = df[\"points\"]\n",
    "\n",
    "print features\n",
    "\n",
    "print target"
   ]
  },
  {
   "cell_type": "code",
   "execution_count": 3,
   "metadata": {
    "collapsed": false
   },
   "outputs": [
    {
     "name": "stdout",
     "output_type": "stream",
     "text": [
      "('Regression scores', array([ 0.79714787,  0.70282668,  0.72973585,  0.76949659]))\n",
      "Regression scores average 0.75\n",
      "scores variance 0.04\n"
     ]
    }
   ],
   "source": [
    "# Split the data into training/testing sets\n",
    "#X_train, X_test, y_train, y_test = cv.train_test_split(features, target, test_size=0.33, random_state=42)\n",
    "\n",
    "#print np.array(X_test)[:,0]\n",
    "#print np.array(y_test)[:]\n",
    "\n",
    "# Create linear regression object\n",
    "regr = linear_model.LinearRegression(fit_intercept=False)\n",
    "\n",
    "#print len(X_train)\n",
    "#print len(y_train)\n",
    "# Train the model using the training sets\n",
    "#regr.fit(X_train, y_train)\n",
    "\n",
    "scores = cv.cross_val_score(regr, features, target,cv=4)\n",
    "print(\"Regression scores\", scores)\n",
    "print(\"Regression scores average %.2f\" %np.mean(scores))\n",
    "print(\"scores variance %.2f\" %np.std(scores))\n",
    "\n",
    "# The coefficients\n",
    "#print('Coefficients: \\n', regr.coef_)\n",
    "# The mean square error\n",
    "#print(\"Residual sum of squares: %.2f\"\n",
    "#      % np.mean((regr.predict(X_test) - y_test) ** 2))\n",
    "# Explained variance score: 1 is perfect prediction\n",
    "#print('Variance score: %.6f' % regr.score(X_test, y_test))"
   ]
  },
  {
   "cell_type": "code",
   "execution_count": 5,
   "metadata": {
    "collapsed": false
   },
   "outputs": [
    {
     "name": "stdout",
     "output_type": "stream",
     "text": [
      "[-0.02647548  0.02862991  0.36955371 -0.29904852  0.03275181  0.17623106]\n",
      "0.0\n"
     ]
    },
    {
     "data": {
      "text/plain": [
       "['../data/linreg_model_de.pkl',\n",
       " '../data/linreg_model_de.pkl_01.npy',\n",
       " '../data/linreg_model_de.pkl_02.npy']"
      ]
     },
     "execution_count": 5,
     "metadata": {},
     "output_type": "execute_result"
    }
   ],
   "source": [
    "#apply the linear regression model to the full dataset and \n",
    "#save the regression data into a model to apply it later\n",
    "regr.fit(features,target)\n",
    "print regr.coef_\n",
    "print regr.intercept_\n",
    "joblib.dump(regr, '../data/linreg_model_de.pkl')  "
   ]
  },
  {
   "cell_type": "code",
   "execution_count": 6,
   "metadata": {
    "collapsed": false
   },
   "outputs": [
    {
     "name": "stdout",
     "output_type": "stream",
     "text": [
      "('Regression Tree scores', array([ 0.71671296,  0.10611344,  0.5896231 ,  0.65986374,  0.70514549]))\n",
      "Regression Tree scores average 0.56\n",
      "Regression Tree scores variance 0.23\n",
      "('Regression Tree2 scores', array([ 0.79287219,  0.01667943,  0.54728137,  0.39034743,  0.54043646]))\n",
      "Regression Tree2 scores average 0.46\n",
      "Regression Tree2 scores variance 0.26\n",
      "('Regression Tree3 scores', array([ 0.69194619, -0.23245203,  0.46125356,  0.20743826,  0.4063767 ]))\n",
      "Regression Tree3 scores average 0.31\n",
      "Regression Tree3 scores variance 0.31\n"
     ]
    }
   ],
   "source": [
    "# Fit regression model Decision Tree\n",
    "regr_1 = DecisionTreeRegressor(max_depth=2)\n",
    "regr_2 = DecisionTreeRegressor(max_depth=5)\n",
    "regr_3 = DecisionTreeRegressor()\n",
    "\n",
    "scores = cv.cross_val_score(regr_1, features, target,cv=5)\n",
    "print(\"Regression Tree scores\", scores)\n",
    "print(\"Regression Tree scores average %.2f\" %np.mean(scores))\n",
    "print(\"Regression Tree scores variance %.2f\" %np.std(scores))\n",
    "\n",
    "\n",
    "scores = cv.cross_val_score(regr_2, features, target,cv=5)\n",
    "print(\"Regression Tree2 scores\", scores)\n",
    "print(\"Regression Tree2 scores average %.2f\" %np.mean(scores))\n",
    "print(\"Regression Tree2 scores variance %.2f\" %np.std(scores))\n",
    "\n",
    "\n",
    "scores = cv.cross_val_score(regr_3, features, target,cv=5)\n",
    "print(\"Regression Tree3 scores\", scores)\n",
    "print(\"Regression Tree3 scores average %.2f\" %np.mean(scores))\n",
    "print(\"Regression Tree3 scores variance %.2f\" %np.std(scores))\n"
   ]
  },
  {
   "cell_type": "code",
   "execution_count": 7,
   "metadata": {
    "collapsed": false
   },
   "outputs": [
    {
     "data": {
      "text/plain": [
       "['../data/regtree_model_de.pkl',\n",
       " '../data/regtree_model_de.pkl_01.npy',\n",
       " '../data/regtree_model_de.pkl_02.npy',\n",
       " '../data/regtree_model_de.pkl_03.npy']"
      ]
     },
     "execution_count": 7,
     "metadata": {},
     "output_type": "execute_result"
    }
   ],
   "source": [
    "#apply the regression tree model to the full dataset and \n",
    "#save the regression data into a model to apply it later\n",
    "regr_2.fit(features,target)\n",
    "joblib.dump(regr_2, '../data/regtree_model_de.pkl')  "
   ]
  },
  {
   "cell_type": "code",
   "execution_count": null,
   "metadata": {
    "collapsed": true
   },
   "outputs": [],
   "source": [
    "\n"
   ]
  }
 ],
 "metadata": {
  "kernelspec": {
   "display_name": "Python 2",
   "language": "python",
   "name": "python2"
  },
  "language_info": {
   "codemirror_mode": {
    "name": "ipython",
    "version": 2
   },
   "file_extension": ".py",
   "mimetype": "text/x-python",
   "name": "python",
   "nbconvert_exporter": "python",
   "pygments_lexer": "ipython2",
   "version": "2.7.10"
  }
 },
 "nbformat": 4,
 "nbformat_minor": 0
}
