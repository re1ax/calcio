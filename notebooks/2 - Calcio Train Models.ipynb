{
 "cells": [
  {
   "cell_type": "code",
   "execution_count": 1,
   "metadata": {
    "collapsed": true
   },
   "outputs": [],
   "source": [
    "import pandas as pd\n",
    "import numpy as np \n",
    "import matplotlib.pyplot as plt \n",
    "from pylab import *\n",
    "%matplotlib inline\n",
    "import numpy as np\n",
    "from sklearn import datasets, linear_model\n",
    "from sklearn import cross_validation as cv\n",
    "from sklearn.tree import DecisionTreeRegressor\n",
    "from sklearn.externals import joblib"
   ]
  },
  {
   "cell_type": "code",
   "execution_count": 2,
   "metadata": {
    "collapsed": false
   },
   "outputs": [
    {
     "name": "stdout",
     "output_type": "stream",
     "text": [
      "    shots  shots_ontarget  shots_conceded  shots_conceded_ontarget  corners  \\\n",
      "0     395             539             119                      215      191   \n",
      "1     381             456             140                      167      177   \n",
      "2     403             433             127                      159      196   \n",
      "3     397             452             131                      181      170   \n",
      "4     457             385             165                      150      201   \n",
      "5     441             383             147                      142      209   \n",
      "6     455             474             181                      148      199   \n",
      "7     439             408             159                      125      168   \n",
      "8     626             305             273                       91      233   \n",
      "9     408             479             129                      178      167   \n",
      "10    496             422             166                      148      240   \n",
      "11    420             501             144                      173      182   \n",
      "12    357             549             124                      196      154   \n",
      "13    427             509             132                      171      202   \n",
      "14    403             484             102                      185      179   \n",
      "15    508             465             178                      146      229   \n",
      "16    688             455             282                      136      246   \n",
      "17    395             536             122                      191      155   \n",
      "18    493             464             172                      182      198   \n",
      "19    438             328             187                       96      195   \n",
      "20    503             531             191                      177      209   \n",
      "21    429             555             133                      194      210   \n",
      "22    524             489             176                      172      235   \n",
      "23    473             419             156                      176      198   \n",
      "24    373             541             126                      189      199   \n",
      "25    510             423             189                      135      222   \n",
      "26    643             335             266                      131      269   \n",
      "27    364             649             125                      213      144   \n",
      "28    433             530             134                      178      187   \n",
      "29    432             532             129                      201      200   \n",
      "..    ...             ...             ...                      ...      ...   \n",
      "50    398             585             132                      200      165   \n",
      "51    507             380             187                      116      249   \n",
      "52    704             437             299                      151      250   \n",
      "53    566             444             196                      170      238   \n",
      "54    525             537             177                      190      220   \n",
      "55    509             448             164                      161      228   \n",
      "56    561             506             183                      190      242   \n",
      "57    464             532             147                      184      203   \n",
      "58    460             434             146                      166      182   \n",
      "59    387             598             154                      210      164   \n",
      "60    492             579             168                      196      189   \n",
      "61    516             494             168                      189      202   \n",
      "62    461             562             147                      223      185   \n",
      "63    477             542             148                      191      189   \n",
      "64    511             452             180                      157      245   \n",
      "65    356             632             117                      223      170   \n",
      "66    461             572             161                      202      262   \n",
      "67    491             468             190                      184      222   \n",
      "68    579             435             213                      139      262   \n",
      "69    466             533             166                      191      180   \n",
      "70    373             518             116                      185      153   \n",
      "71    393             544             144                      187      181   \n",
      "72    437             517             145                      181      205   \n",
      "73    498             477             171                      185      208   \n",
      "74    588             474             204                      170      224   \n",
      "75    534             400             209                      154      243   \n",
      "76    436             529             143                      202      165   \n",
      "77    729             384             299                      120      233   \n",
      "78    623             276             287                      100      270   \n",
      "79    453             486             174                      171      164   \n",
      "\n",
      "    corners_conceded  \n",
      "0                269  \n",
      "1                187  \n",
      "2                174  \n",
      "3                188  \n",
      "4                168  \n",
      "5                176  \n",
      "6                178  \n",
      "7                218  \n",
      "8                137  \n",
      "9                221  \n",
      "10               137  \n",
      "11               197  \n",
      "12               236  \n",
      "13               241  \n",
      "14               203  \n",
      "15               197  \n",
      "16               177  \n",
      "17               238  \n",
      "18               192  \n",
      "19               157  \n",
      "20               227  \n",
      "21               265  \n",
      "22               209  \n",
      "23               237  \n",
      "24               212  \n",
      "25               196  \n",
      "26               152  \n",
      "27               246  \n",
      "28               260  \n",
      "29               199  \n",
      "..               ...  \n",
      "50               239  \n",
      "51               151  \n",
      "52               201  \n",
      "53               235  \n",
      "54               223  \n",
      "55               240  \n",
      "56               196  \n",
      "57               186  \n",
      "58               194  \n",
      "59               242  \n",
      "60               227  \n",
      "61               240  \n",
      "62               224  \n",
      "63               229  \n",
      "64               189  \n",
      "65               245  \n",
      "66               196  \n",
      "67               219  \n",
      "68               176  \n",
      "69               238  \n",
      "70               241  \n",
      "71               217  \n",
      "72               231  \n",
      "73               208  \n",
      "74               212  \n",
      "75               140  \n",
      "76               236  \n",
      "77               168  \n",
      "78               112  \n",
      "79               204  \n",
      "\n",
      "[80 rows x 6 columns]\n",
      "0      32\n",
      "1      49\n",
      "2      35\n",
      "3      35\n",
      "4      50\n",
      "5      55\n",
      "6      76\n",
      "7      77\n",
      "8      94\n",
      "9      41\n",
      "10     51\n",
      "11     37\n",
      "12     35\n",
      "13     46\n",
      "14     37\n",
      "15     60\n",
      "16     92\n",
      "17     20\n",
      "18     49\n",
      "19     78\n",
      "20     59\n",
      "21     42\n",
      "22     49\n",
      "23     45\n",
      "24     36\n",
      "25     70\n",
      "26     87\n",
      "27     48\n",
      "28     39\n",
      "29     41\n",
      "     ... \n",
      "50     46\n",
      "51     76\n",
      "52     85\n",
      "53     65\n",
      "54     35\n",
      "55     39\n",
      "56     53\n",
      "57     42\n",
      "58     34\n",
      "59     43\n",
      "60     42\n",
      "61     47\n",
      "62     37\n",
      "63     47\n",
      "64     61\n",
      "65     27\n",
      "66     49\n",
      "67     43\n",
      "68     56\n",
      "69     54\n",
      "70     47\n",
      "71     55\n",
      "72     52\n",
      "73     46\n",
      "74     50\n",
      "75     58\n",
      "76     43\n",
      "77    100\n",
      "78     91\n",
      "79     41\n",
      "Name: points, dtype: int64\n"
     ]
    }
   ],
   "source": [
    "#open the data file\n",
    "\n",
    "#df = pd.DataFrame.from_csv(\"../data/proc_data_it.csv\")\n",
    "df = pd.DataFrame.from_csv(\"../data/proc_data_es.csv\")\n",
    "\n",
    "features = df[[\"shots\",\"shots_ontarget\",\"shots_conceded\",\"shots_conceded_ontarget\",\"corners\",\"corners_conceded\"]]\n",
    "target   = df[\"points\"]\n",
    "\n",
    "print features\n",
    "\n",
    "print target"
   ]
  },
  {
   "cell_type": "code",
   "execution_count": 3,
   "metadata": {
    "collapsed": false
   },
   "outputs": [
    {
     "name": "stdout",
     "output_type": "stream",
     "text": [
      "('Regression scores', array([ 0.81163497,  0.83747504,  0.65506659,  0.68880932]))\n",
      "Regression scores average 0.75\n",
      "scores variance 0.08\n"
     ]
    }
   ],
   "source": [
    "# Split the data into training/testing sets\n",
    "#X_train, X_test, y_train, y_test = cv.train_test_split(features, target, test_size=0.33, random_state=42)\n",
    "\n",
    "#print np.array(X_test)[:,0]\n",
    "#print np.array(y_test)[:]\n",
    "\n",
    "# Create linear regression object\n",
    "regr = linear_model.LinearRegression(fit_intercept=False)\n",
    "\n",
    "#print len(X_train)\n",
    "#print len(y_train)\n",
    "# Train the model using the training sets\n",
    "#regr.fit(X_train, y_train)\n",
    "\n",
    "scores = cv.cross_val_score(regr, features, target,cv=4)\n",
    "print(\"Regression scores\", scores)\n",
    "print(\"Regression scores average %.2f\" %np.mean(scores))\n",
    "print(\"scores variance %.2f\" %np.std(scores))\n",
    "\n",
    "# The coefficients\n",
    "#print('Coefficients: \\n', regr.coef_)\n",
    "# The mean square error\n",
    "#print(\"Residual sum of squares: %.2f\"\n",
    "#      % np.mean((regr.predict(X_test) - y_test) ** 2))\n",
    "# Explained variance score: 1 is perfect prediction\n",
    "#print('Variance score: %.6f' % regr.score(X_test, y_test))"
   ]
  },
  {
   "cell_type": "code",
   "execution_count": 4,
   "metadata": {
    "collapsed": false
   },
   "outputs": [
    {
     "name": "stdout",
     "output_type": "stream",
     "text": [
      "[-0.08796348  0.10207793  0.42258726 -0.37089072  0.10724408  0.07035174]\n",
      "0.0\n"
     ]
    },
    {
     "data": {
      "text/plain": [
       "['../data/linreg_model_es.pkl',\n",
       " '../data/linreg_model_es.pkl_01.npy',\n",
       " '../data/linreg_model_es.pkl_02.npy']"
      ]
     },
     "execution_count": 4,
     "metadata": {},
     "output_type": "execute_result"
    }
   ],
   "source": [
    "#apply the linear regression model to the full dataset and \n",
    "#save the regression data into a model to apply it later\n",
    "regr.fit(features,target)\n",
    "print regr.coef_\n",
    "print regr.intercept_\n",
    "joblib.dump(regr, '../data/linreg_model_es.pkl')  "
   ]
  },
  {
   "cell_type": "code",
   "execution_count": 5,
   "metadata": {
    "collapsed": false
   },
   "outputs": [
    {
     "name": "stdout",
     "output_type": "stream",
     "text": [
      "('Regression Tree scores', array([ 0.56686468,  0.59929667,  0.39672199,  0.60161593,  0.03226025]))\n",
      "Regression Tree scores average 0.44\n",
      "Regression Tree scores variance 0.22\n",
      "('Regression Tree2 scores', array([ 0.55025292,  0.59583705,  0.40371705,  0.52040759, -0.09120741]))\n",
      "Regression Tree2 scores average 0.40\n",
      "Regression Tree2 scores variance 0.25\n",
      "('Regression Tree3 scores', array([ 0.53776234,  0.6351492 ,  0.21266884,  0.40440261, -0.02950997]))\n",
      "Regression Tree3 scores average 0.35\n",
      "Regression Tree3 scores variance 0.24\n"
     ]
    }
   ],
   "source": [
    "# Fit regression model Decision Tree\n",
    "regr_1 = DecisionTreeRegressor(max_depth=2)\n",
    "regr_2 = DecisionTreeRegressor(max_depth=5)\n",
    "regr_3 = DecisionTreeRegressor()\n",
    "\n",
    "scores = cv.cross_val_score(regr_1, features, target,cv=5)\n",
    "print(\"Regression Tree scores\", scores)\n",
    "print(\"Regression Tree scores average %.2f\" %np.mean(scores))\n",
    "print(\"Regression Tree scores variance %.2f\" %np.std(scores))\n",
    "\n",
    "\n",
    "scores = cv.cross_val_score(regr_2, features, target,cv=5)\n",
    "print(\"Regression Tree2 scores\", scores)\n",
    "print(\"Regression Tree2 scores average %.2f\" %np.mean(scores))\n",
    "print(\"Regression Tree2 scores variance %.2f\" %np.std(scores))\n",
    "\n",
    "\n",
    "scores = cv.cross_val_score(regr_3, features, target,cv=5)\n",
    "print(\"Regression Tree3 scores\", scores)\n",
    "print(\"Regression Tree3 scores average %.2f\" %np.mean(scores))\n",
    "print(\"Regression Tree3 scores variance %.2f\" %np.std(scores))\n"
   ]
  },
  {
   "cell_type": "code",
   "execution_count": 8,
   "metadata": {
    "collapsed": false
   },
   "outputs": [
    {
     "data": {
      "text/plain": [
       "['../data/regtree_model.pkl',\n",
       " '../data/regtree_model.pkl_01.npy',\n",
       " '../data/regtree_model.pkl_02.npy',\n",
       " '../data/regtree_model.pkl_03.npy']"
      ]
     },
     "execution_count": 8,
     "metadata": {},
     "output_type": "execute_result"
    }
   ],
   "source": [
    "#apply the regression tree model to the full dataset and \n",
    "#save the regression data into a model to apply it later\n",
    "regr_2.fit(features,target)\n",
    "joblib.dump(regr_2, '../data/regtree_model.pkl')  "
   ]
  },
  {
   "cell_type": "code",
   "execution_count": null,
   "metadata": {
    "collapsed": true
   },
   "outputs": [],
   "source": [
    "\n"
   ]
  }
 ],
 "metadata": {
  "kernelspec": {
   "display_name": "Python 2",
   "language": "python",
   "name": "python2"
  },
  "language_info": {
   "codemirror_mode": {
    "name": "ipython",
    "version": 2
   },
   "file_extension": ".py",
   "mimetype": "text/x-python",
   "name": "python",
   "nbconvert_exporter": "python",
   "pygments_lexer": "ipython2",
   "version": "2.7.10"
  }
 },
 "nbformat": 4,
 "nbformat_minor": 0
}
