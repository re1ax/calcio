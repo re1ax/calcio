{
 "cells": [
  {
   "cell_type": "code",
   "execution_count": 12,
   "metadata": {
    "collapsed": false
   },
   "outputs": [],
   "source": [
    "import pandas as pd \n",
    "from sklearn.externals import joblib\n",
    "import numpy as np\n",
    "import csv\n",
    "import matplotlib.pyplot as plt\n",
    "%matplotlib inline "
   ]
  },
  {
   "cell_type": "code",
   "execution_count": 13,
   "metadata": {
    "collapsed": true
   },
   "outputs": [],
   "source": [
    "df_week = pd.read_csv(\"http://www.football-data.co.uk/mmz4281/1617/I1.csv\")"
   ]
  },
  {
   "cell_type": "code",
   "execution_count": 14,
   "metadata": {
    "collapsed": true
   },
   "outputs": [],
   "source": [
    "def get_teams(df):\n",
    "    \n",
    "    teams = []\n",
    "    \n",
    "    for i,cal in enumerate(df.iterrows()):\n",
    "        teams.append(cal[1][\"HomeTeam\"])\n",
    "        teams.append(cal[1][\"AwayTeam\"])\n",
    "\n",
    "        if i == 9: \n",
    "            return teams\n"
   ]
  },
  {
   "cell_type": "code",
   "execution_count": 4,
   "metadata": {
    "collapsed": false
   },
   "outputs": [
    {
     "name": "stdout",
     "output_type": "stream",
     "text": [
      "['Juventus', 'Fiorentina', 'Roma', 'Udinese', 'Atalanta', 'Lazio', 'Bologna', 'Crotone', 'Chievo', 'Inter', 'Empoli', 'Sampdoria', 'Genoa', 'Cagliari', 'Milan', 'Torino', 'Palermo', 'Sassuolo', 'Pescara', 'Napoli']\n"
     ]
    }
   ],
   "source": [
    "teams_1617 = get_teams(df_week)\n",
    "\n",
    "print teams_1617"
   ]
  },
  {
   "cell_type": "code",
   "execution_count": 5,
   "metadata": {
    "collapsed": true
   },
   "outputs": [],
   "source": [
    "def build_features(df, teams):\n",
    "\n",
    "    team_features = []\n",
    "    \n",
    "    for team in teams:\n",
    "        #print team_a\n",
    "        team_home = df[df['HomeTeam']==team]\n",
    "        team_away = df[df['AwayTeam']==team]\n",
    "        \n",
    "        #shots made\n",
    "        team_s    = team_away[\"AS\"].sum()  + team_home[\"HS\"].sum()\n",
    "        #shots on-target made\n",
    "        team_st   = team_away[\"AST\"].sum() + team_home[\"HST\"].sum()\n",
    "        #shots conceded\n",
    "        team_sc    = team_away[\"HS\"].sum()  + team_home[\"AS\"].sum()\n",
    "        #shots on-target conceded\n",
    "        team_stc   = team_away[\"HST\"].sum() + team_home[\"AST\"].sum()\n",
    "        #corners awarded\n",
    "        team_c    = team_away[\"AC\"].sum()  + team_home[\"HC\"].sum()\n",
    "        #corners conceded\n",
    "        team_cc    = team_away[\"HC\"].sum()  + team_home[\"AC\"].sum()\n",
    "\n",
    "        team_features.append([team_s,team_sc,team_st,team_stc,team_c,team_cc])\n",
    "\n",
    "    return team_features"
   ]
  },
  {
   "cell_type": "code",
   "execution_count": 6,
   "metadata": {
    "collapsed": true
   },
   "outputs": [],
   "source": [
    "def build_target(df, teams):\n",
    "\n",
    "    team_target = []\n",
    "    \n",
    "    for team in teams:\n",
    "        #print team_a\n",
    "        t      = df[(df['HomeTeam']==team) | (df['AwayTeam']==team)]\n",
    "        team_home = df[df['HomeTeam']==team]\n",
    "        team_away = df[df['AwayTeam']==team]\n",
    "\n",
    "        team_h_win = len(team_home[team_home['FTHG']>team_home['FTAG']])\n",
    "        team_a_win = len(team_away[team_away['FTAG']>team_away['FTHG']])\n",
    "        team_draw = len(t[t['FTAG']==t['FTHG']])\n",
    "\n",
    "        team_points = 3*team_a_win + 3*team_h_win + team_draw\n",
    "        team_target.append(team_points)\n",
    "\n",
    "    return team_target\n"
   ]
  },
  {
   "cell_type": "code",
   "execution_count": 7,
   "metadata": {
    "collapsed": false
   },
   "outputs": [],
   "source": [
    "targ_1617 = build_target(df_week, teams_1617)\n",
    "feat_1617 = build_features(df_week, teams_1617)"
   ]
  },
  {
   "cell_type": "code",
   "execution_count": 8,
   "metadata": {
    "collapsed": true
   },
   "outputs": [],
   "source": [
    "model_1 = joblib.load('../data/linreg_model.pkl')\n",
    "\n",
    "pred_1617 = model_1.predict(feat_1617)"
   ]
  },
  {
   "cell_type": "code",
   "execution_count": 9,
   "metadata": {
    "collapsed": false
   },
   "outputs": [],
   "source": [
    "#print pred_1617\n",
    "#print teams_1617\n",
    "ranking  = []\n",
    "realrank = []\n",
    "\n",
    "for t,p,tg in zip(teams_1617,pred_1617,targ_1617):\n",
    "    ranking.append((t, p, tg))\n",
    "    \n",
    "for t,p in zip(teams_1617,targ_1617):\n",
    "    realrank.append((t, p))\n",
    "    "
   ]
  },
  {
   "cell_type": "code",
   "execution_count": 10,
   "metadata": {
    "collapsed": false
   },
   "outputs": [
    {
     "name": "stdout",
     "output_type": "stream",
     "text": [
      "Juventus 13.3 15 1.7\n",
      "Napoli 12.1 14 1.9\n",
      "Inter 11.1 11 -0.1\n",
      "Roma 13.2 10 -3.2\n",
      "Lazio 8.6 10 1.4\n",
      "Bologna 7.5 10 2.5\n",
      "Chievo 6.4 10 3.6\n",
      "Milan 7.8 10 2.2\n",
      "Sassuolo 7.7 9 1.3\n",
      "Fiorentina 5.9 8 2.1\n",
      "Genoa 8.7 8 -0.7\n",
      "Torino 11.9 8 -3.9\n",
      "Udinese 6.1 7 0.9\n",
      "Cagliari 5.4 7 1.6\n",
      "Atalanta 7.7 6 -1.7\n",
      "Sampdoria 7.9 6 -1.9\n",
      "Pescara 7.5 6 -1.5\n",
      "Palermo 3.6 5 1.4\n",
      "Empoli 6.0 4 -2.0\n",
      "Crotone 3.7 1 -2.7\n"
     ]
    }
   ],
   "source": [
    "ranking.sort(key=lambda x: x[2],reverse=True)\n",
    "teams_pred_real = []\n",
    "\n",
    "for t,p,tg in ranking:\n",
    "    print t,'{:.1f}'.format(p),'{:.0f}'.format(tg), '{:.1f}'.format(tg-p)\n",
    "    teams_pred_real.append((t,'{:.1f}'.format(p),'{:.1f}'.format(tg)))\n",
    "    "
   ]
  },
  {
   "cell_type": "code",
   "execution_count": 44,
   "metadata": {
    "collapsed": false
   },
   "outputs": [
    {
     "data": {
      "image/png": "[encoded data removed]",
      "text/plain": [
       "<matplotlib.figure.Figure at 0x10954ba10>"
      ]
     },
     "metadata": {},
     "output_type": "display_data"
    }
   ],
   "source": [
    "#!/usr/bin/env python\n",
    "\n",
    "team_names = [x[0] for x in teams_pred_real]\n",
    "team_pred =  [float(x[1]) for x in teams_pred_real]\n",
    "team_real =  [float(x[2]) for x in teams_pred_real]\n",
    "\n",
    "team_names.reverse()\n",
    "team_pred.reverse()\n",
    "team_real.reverse()\n",
    "\n",
    "width = 0.35       # the width of the bars\n",
    "space = 0.07       # the space bw the bars\n",
    "\n",
    "n = 20\n",
    "ind = np.arange(n)\n",
    "\n",
    "fig, ax = plt.subplots(figsize=(12, 12))\n",
    "\n",
    "rects1 = ax.barh(ind, team_pred, width, color='r')\n",
    "rects2 = ax.barh(ind + width + space, team_real, width, color='#27AE60')\n",
    "\n",
    "# add some text for labels, title and axes ticks\n",
    "ax.set_xlabel('Scores')\n",
    "ax.set_title('Serie A predicted vs real points')\n",
    "ax.set_yticks(ind + width)\n",
    "ax.set_yticklabels(team_names,size=14,family='sans-serif')\n",
    "\n",
    "ax.legend((rects1[0], rects2[0]), ('Predicted', 'Real'), loc=4)\n",
    "\n",
    "\n",
    "def autolabel(rects):\n",
    "    # attach some text labels\n",
    "    for t,p,rect in zip(team_real,team_pred,rects):\n",
    "        width = rect.get_width()\n",
    "        ax.text(1.02*width, rect.get_y() + rect.get_height()/0.9, \n",
    "                '%.1f' % float(t-p),\n",
    "                ha='left', va='top', size=14)\n",
    "\n",
    "#autolabel(rects1)\n",
    "autolabel(rects2)\n",
    "\n",
    "plt.savefig(\"serieA.pdf\")\n",
    "plt.show()\n"
   ]
  },
  {
   "cell_type": "code",
   "execution_count": 22,
   "metadata": {
    "collapsed": false
   },
   "outputs": [
    {
     "name": "stdout",
     "output_type": "stream",
     "text": [
      "Juventus 11.4 12 0.6\n",
      "Napoli 10.5 11 0.5\n",
      "Roma 11.6 10 -1.6\n",
      "Inter 8.8 10 1.2\n",
      "Chievo 5.9 10 4.1\n",
      "Milan 6.8 9 2.2\n",
      "Bologna 6.7 9 2.3\n",
      "Genoa 7.7 7 -0.7\n",
      "Lazio 7.4 7 -0.4\n",
      "Udinese 5.2 7 1.8\n",
      "Fiorentina 3.5 7 3.5\n",
      "Sampdoria 6.3 6 -0.3\n",
      "Sassuolo 6.3 6 -0.3\n",
      "Torino 9.6 5 -4.6\n",
      "Pescara 6.3 5 -1.3\n",
      "Palermo 3.5 5 1.5\n",
      "Empoli 5.0 4 -1.0\n",
      "Cagliari 4.2 4 -0.2\n",
      "Atalanta 6.0 3 -3.0\n",
      "Crotone 3.1 1 -2.1\n"
     ]
    }
   ],
   "source": [
    "with open('../data/16-17/pred.csv', 'wb') as csvfile:\n",
    "    predwriter = csv.writer(csvfile, delimiter=',',quotechar='|', quoting=csv.QUOTE_MINIMAL)\n",
    "    predwriter.writerow(['team','prediction','points','difference'])\n",
    "    for t,p,tg in ranking:\n",
    "        print t,'{:.1f}'.format(p),'{:.0f}'.format(tg), '{:.1f}'.format(tg-p)\n",
    "        predwriter.writerow([t,'{:.1f}'.format(p),'{:.0f}'.format(tg), '{:.1f}'.format(tg-p)])"
   ]
  },
  {
   "cell_type": "code",
   "execution_count": 11,
   "metadata": {
    "collapsed": false
   },
   "outputs": [
    {
     "name": "stdout",
     "output_type": "stream",
     "text": [
      "[15, 8, 10, 7, 6, 10, 10, 1, 10, 11, 4, 6, 8, 7, 10, 8, 5, 9, 6, 14]\n",
      "[ 13.28814816   5.85363566  13.23133664   6.07288054   7.74749192\n",
      "   8.62696283   7.49107787   3.66096048   6.44601939  11.14159122\n",
      "   5.95732209   7.85538915   8.65434676   5.39490759   7.77242939\n",
      "  11.94548183   3.61764554   7.67638765   7.47042555  12.11945368]\n",
      "Variance score: 0.55\n",
      "Residual sum of squares: 4.50\n"
     ]
    }
   ],
   "source": [
    "print targ_1617\n",
    "print model_1.predict(feat_1617)\n",
    "#Explained variance score: 1 is perfect prediction\n",
    "print('Variance score: %.2f' % model_1.score(feat_1617, targ_1617))\n",
    "print(\"Residual sum of squares: %.2f\"\n",
    "      % np.mean((model_1.predict(feat_1617) - targ_1617) ** 2))"
   ]
  },
  {
   "cell_type": "code",
   "execution_count": 12,
   "metadata": {
    "collapsed": true
   },
   "outputs": [],
   "source": [
    "model_1 = joblib.load('../data/regtree_model.pkl')\n",
    "\n",
    "pred_1617 = model_1.predict(feat_1617)"
   ]
  },
  {
   "cell_type": "code",
   "execution_count": 26,
   "metadata": {
    "collapsed": false
   },
   "outputs": [
    {
     "name": "stdout",
     "output_type": "stream",
     "text": [
      "[ 7.5620905   2.80125714  9.25664294  3.50680177  4.26056926  5.6904567\n",
      "  5.45391209  2.21995481  5.31535688  7.3547763   4.11077132  5.32366018\n",
      "  6.21354512  4.84450966  4.5698418   8.40492037  2.87155497  5.74984379\n",
      "  4.35735024  9.34533022]\n",
      "[9, 6, 7, 6, 3, 7, 6, 1, 7, 7, 4, 6, 6, 4, 6, 4, 2, 9, 1, 10]\n"
     ]
    }
   ],
   "source": [
    "print pred_1617\n",
    "print targ_1617"
   ]
  },
  {
   "cell_type": "code",
   "execution_count": null,
   "metadata": {
    "collapsed": true
   },
   "outputs": [],
   "source": []
  }
 ],
 "metadata": {
  "kernelspec": {
   "display_name": "Python 2",
   "language": "python",
   "name": "python2"
  },
  "language_info": {
   "codemirror_mode": {
    "name": "ipython",
    "version": 2
   },
   "file_extension": ".py",
   "mimetype": "text/x-python",
   "name": "python",
   "nbconvert_exporter": "python",
   "pygments_lexer": "ipython2",
   "version": "2.7.10"
  }
 },
 "nbformat": 4,
 "nbformat_minor": 0
}
