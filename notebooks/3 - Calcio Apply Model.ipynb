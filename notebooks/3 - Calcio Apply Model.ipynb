{
 "cells": [
  {
   "cell_type": "code",
   "execution_count": 1,
   "metadata": {
    "collapsed": false
   },
   "outputs": [],
   "source": [
    "import pandas as pd \n",
    "from sklearn.externals import joblib\n",
    "import numpy as np\n"
   ]
  },
  {
   "cell_type": "code",
   "execution_count": 2,
   "metadata": {
    "collapsed": true
   },
   "outputs": [],
   "source": [
    "df_week = pd.read_csv(\"../data/16-17/week3.csv\")"
   ]
  },
  {
   "cell_type": "code",
   "execution_count": 3,
   "metadata": {
    "collapsed": true
   },
   "outputs": [],
   "source": [
    "def get_teams(df):\n",
    "    \n",
    "    teams = []\n",
    "    \n",
    "    for i,cal in enumerate(df.iterrows()):\n",
    "        teams.append(cal[1][\"HomeTeam\"])\n",
    "        teams.append(cal[1][\"AwayTeam\"])\n",
    "\n",
    "        if i == 9: \n",
    "            return teams\n"
   ]
  },
  {
   "cell_type": "code",
   "execution_count": 4,
   "metadata": {
    "collapsed": false
   },
   "outputs": [
    {
     "name": "stdout",
     "output_type": "stream",
     "text": [
      "['Juventus', 'Fiorentina', 'Roma', 'Udinese', 'Atalanta', 'Lazio', 'Bologna', 'Crotone', 'Chievo', 'Inter', 'Empoli', 'Sampdoria', 'Genoa', 'Cagliari', 'Milan', 'Torino', 'Palermo', 'Sassuolo', 'Pescara', 'Napoli']\n"
     ]
    }
   ],
   "source": [
    "teams_1617 = get_teams(df_week)\n",
    "\n",
    "print teams_1617"
   ]
  },
  {
   "cell_type": "code",
   "execution_count": 5,
   "metadata": {
    "collapsed": true
   },
   "outputs": [],
   "source": [
    "def build_features(df, teams):\n",
    "\n",
    "    team_features = []\n",
    "    \n",
    "    for team in teams:\n",
    "        #print team_a\n",
    "        team_home = df[df['HomeTeam']==team]\n",
    "        team_away = df[df['AwayTeam']==team]\n",
    "        \n",
    "        #shots made\n",
    "        team_s    = team_away[\"AS\"].sum()  + team_home[\"HS\"].sum()\n",
    "        #shots on-target made\n",
    "        team_st   = team_away[\"AST\"].sum() + team_home[\"HST\"].sum()\n",
    "        #shots conceded\n",
    "        team_sc    = team_away[\"HS\"].sum()  + team_home[\"AS\"].sum()\n",
    "        #shots on-target conceded\n",
    "        team_stc   = team_away[\"HST\"].sum() + team_home[\"AST\"].sum()\n",
    "        #corners awarded\n",
    "        team_c    = team_away[\"AC\"].sum()  + team_home[\"HC\"].sum()\n",
    "        #corners conceded\n",
    "        team_cc    = team_away[\"HC\"].sum()  + team_home[\"AC\"].sum()\n",
    "\n",
    "        team_features.append([team_s,team_sc,team_st,team_stc,team_c,team_cc])\n",
    "\n",
    "    return team_features"
   ]
  },
  {
   "cell_type": "code",
   "execution_count": 6,
   "metadata": {
    "collapsed": true
   },
   "outputs": [],
   "source": [
    "def build_target(df, teams):\n",
    "\n",
    "    team_target = []\n",
    "    \n",
    "    for team in teams:\n",
    "        #print team_a\n",
    "        t      = df[(df['HomeTeam']==team) | (df['AwayTeam']==team)]\n",
    "        team_home = df[df['HomeTeam']==team]\n",
    "        team_away = df[df['AwayTeam']==team]\n",
    "\n",
    "        team_h_win = len(team_home[team_home['FTHG']>team_home['FTAG']])\n",
    "        team_a_win = len(team_away[team_away['FTAG']>team_away['FTHG']])\n",
    "        team_draw = len(t[t['FTAG']==t['FTHG']])\n",
    "\n",
    "        team_points = 3*team_a_win + 3*team_h_win + team_draw\n",
    "        team_target.append(team_points)\n",
    "\n",
    "    return team_target\n"
   ]
  },
  {
   "cell_type": "code",
   "execution_count": 7,
   "metadata": {
    "collapsed": false
   },
   "outputs": [],
   "source": [
    "targ_1617 = build_target(df_week, teams_1617)\n",
    "feat_1617 = build_features(df_week, teams_1617)"
   ]
  },
  {
   "cell_type": "code",
   "execution_count": 8,
   "metadata": {
    "collapsed": true
   },
   "outputs": [],
   "source": [
    "model_1 = joblib.load('../data/linreg_model.pkl')\n",
    "\n",
    "pred_1617 = model_1.predict(feat_1617)"
   ]
  },
  {
   "cell_type": "code",
   "execution_count": 9,
   "metadata": {
    "collapsed": false
   },
   "outputs": [],
   "source": [
    "#print pred_1617\n",
    "#print teams_1617\n",
    "ranking = []\n",
    "\n",
    "for t,p in zip(teams_1617,pred_1617):\n",
    "    ranking.append((t, p))"
   ]
  },
  {
   "cell_type": "code",
   "execution_count": 10,
   "metadata": {
    "collapsed": false
   },
   "outputs": [
    {
     "name": "stdout",
     "output_type": "stream",
     "text": [
      "Roma 8.00756548869\n",
      "Torino 6.73109730888\n",
      "Juventus 6.6162023009\n",
      "Napoli 6.58277064269\n",
      "Inter 5.69114915915\n",
      "Bologna 4.99625777962\n",
      "Genoa 4.64998250775\n",
      "Sassuolo 4.35953463788\n",
      "Atalanta 4.15749324372\n",
      "Sampdoria 4.15569381024\n",
      "Pescara 3.86378383685\n",
      "Empoli 3.76505933262\n",
      "Milan 3.50982836635\n",
      "Chievo 3.20803299074\n",
      "Cagliari 2.90550728122\n",
      "Lazio 2.69441426438\n",
      "Udinese 2.68493654115\n",
      "Fiorentina 1.7815215445\n",
      "Crotone 1.45034291013\n",
      "Palermo 1.25624688258\n"
     ]
    }
   ],
   "source": [
    "ranking.sort(key=lambda x: x[1],reverse=True)\n",
    "for t,p in ranking:\n",
    "    print t,p"
   ]
  },
  {
   "cell_type": "code",
   "execution_count": 11,
   "metadata": {
    "collapsed": false
   },
   "outputs": [
    {
     "name": "stdout",
     "output_type": "stream",
     "text": [
      "[9, 3, 7, 6, 3, 4, 6, 0, 4, 4, 3, 6, 6, 1, 3, 3, 1, 6, 1, 7]\n",
      "Variance score: 0.42\n",
      "Residual sum of squares: 3.18\n"
     ]
    }
   ],
   "source": [
    "print targ_1617\n",
    "#Explained variance score: 1 is perfect prediction\n",
    "print('Variance score: %.2f' % model_1.score(feat_1617, targ_1617))\n",
    "print(\"Residual sum of squares: %.2f\"\n",
    "      % np.mean((model_1.predict(feat_1617) - targ_1617) ** 2))"
   ]
  },
  {
   "cell_type": "code",
   "execution_count": 12,
   "metadata": {
    "collapsed": true
   },
   "outputs": [],
   "source": [
    "model_1 = joblib.load('../data/regtree_model.pkl')\n",
    "\n",
    "pred_1617 = model_1.predict(feat_1617)"
   ]
  },
  {
   "cell_type": "code",
   "execution_count": 13,
   "metadata": {
    "collapsed": false
   },
   "outputs": [
    {
     "name": "stdout",
     "output_type": "stream",
     "text": [
      "[ 43.35714286  43.35714286  43.35714286  43.35714286  43.35714286\n",
      "  43.35714286  43.35714286  43.35714286  43.35714286  43.35714286\n",
      "  43.35714286  43.35714286  43.35714286  43.35714286  43.35714286\n",
      "  43.35714286  43.35714286  43.35714286  43.35714286  43.35714286]\n",
      "[9, 3, 7, 6, 3, 4, 6, 0, 4, 4, 3, 6, 6, 1, 3, 3, 1, 6, 1, 7]\n"
     ]
    }
   ],
   "source": [
    "print pred_1617\n",
    "print targ_1617"
   ]
  },
  {
   "cell_type": "code",
   "execution_count": null,
   "metadata": {
    "collapsed": true
   },
   "outputs": [],
   "source": []
  }
 ],
 "metadata": {
  "kernelspec": {
   "display_name": "Python 2",
   "language": "python",
   "name": "python2"
  },
  "language_info": {
   "codemirror_mode": {
    "name": "ipython",
    "version": 2
   },
   "file_extension": ".py",
   "mimetype": "text/x-python",
   "name": "python",
   "nbconvert_exporter": "python",
   "pygments_lexer": "ipython2",
   "version": "2.7.11"
  }
 },
 "nbformat": 4,
 "nbformat_minor": 0
}
