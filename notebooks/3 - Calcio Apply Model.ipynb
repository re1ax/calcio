{
 "cells": [
  {
   "cell_type": "code",
   "execution_count": 6,
   "metadata": {
    "collapsed": false
   },
   "outputs": [],
   "source": [
    "import pandas as pd \n",
    "from sklearn.externals import joblib\n",
    "import numpy as np\n",
    "import csv\n",
    "import matplotlib.pyplot as plt\n",
    "%matplotlib inline "
   ]
  },
  {
   "cell_type": "code",
   "execution_count": 7,
   "metadata": {
    "collapsed": true
   },
   "outputs": [],
   "source": [
    "df_week = pd.read_csv(\"http://www.football-data.co.uk/mmz4281/1617/I1.csv\")"
   ]
  },
  {
   "cell_type": "code",
   "execution_count": 8,
   "metadata": {
    "collapsed": false
   },
   "outputs": [
    {
     "data": {
      "text/plain": [
       "15"
      ]
     },
     "execution_count": 8,
     "metadata": {},
     "output_type": "execute_result"
    }
   ],
   "source": [
    "df_week[(df_week.HomeTeam==\"Inter\") | (df_week.AwayTeam==\"Inter\")].shape[0]"
   ]
  },
  {
   "cell_type": "code",
   "execution_count": 9,
   "metadata": {
    "collapsed": true
   },
   "outputs": [],
   "source": [
    "def get_teams(df):\n",
    "    \n",
    "    teams = []\n",
    "    \n",
    "    for i,cal in enumerate(df.iterrows()):\n",
    "        teams.append(cal[1][\"HomeTeam\"])\n",
    "        teams.append(cal[1][\"AwayTeam\"])\n",
    "\n",
    "        if i == 9: \n",
    "            return teams\n"
   ]
  },
  {
   "cell_type": "code",
   "execution_count": 10,
   "metadata": {
    "collapsed": false
   },
   "outputs": [
    {
     "name": "stdout",
     "output_type": "stream",
     "text": [
      "['Juventus', 'Fiorentina', 'Roma', 'Udinese', 'Atalanta', 'Lazio', 'Bologna', 'Crotone', 'Chievo', 'Inter', 'Empoli', 'Sampdoria', 'Genoa', 'Cagliari', 'Milan', 'Torino', 'Palermo', 'Sassuolo', 'Pescara', 'Napoli']\n"
     ]
    }
   ],
   "source": [
    "teams_1617 = get_teams(df_week)\n",
    "\n",
    "print teams_1617"
   ]
  },
  {
   "cell_type": "code",
   "execution_count": 11,
   "metadata": {
    "collapsed": true
   },
   "outputs": [],
   "source": [
    "def build_features(df, teams):\n",
    "\n",
    "    team_features = []\n",
    "    \n",
    "    for team in teams:\n",
    "        #print team_a\n",
    "        team_home = df[df['HomeTeam']==team]\n",
    "        team_away = df[df['AwayTeam']==team]\n",
    "        \n",
    "        #shots made\n",
    "        team_s    = team_away[\"AS\"].sum()  + team_home[\"HS\"].sum()\n",
    "        #shots on-target made\n",
    "        team_st   = team_away[\"AST\"].sum() + team_home[\"HST\"].sum()\n",
    "        #shots conceded\n",
    "        team_sc    = team_away[\"HS\"].sum()  + team_home[\"AS\"].sum()\n",
    "        #shots on-target conceded\n",
    "        team_stc   = team_away[\"HST\"].sum() + team_home[\"AST\"].sum()\n",
    "        #corners awarded\n",
    "        team_c    = team_away[\"AC\"].sum()  + team_home[\"HC\"].sum()\n",
    "        #corners conceded\n",
    "        team_cc    = team_away[\"HC\"].sum()  + team_home[\"AC\"].sum()\n",
    "\n",
    "        team_features.append([team_s,team_sc,team_st,team_stc,team_c,team_cc])\n",
    "\n",
    "    return team_features"
   ]
  },
  {
   "cell_type": "code",
   "execution_count": 12,
   "metadata": {
    "collapsed": true
   },
   "outputs": [],
   "source": [
    "def build_target(df, teams):\n",
    "\n",
    "    team_target = []\n",
    "    \n",
    "    for team in teams:\n",
    "        #print team_a\n",
    "        t      = df[(df['HomeTeam']==team) | (df['AwayTeam']==team)]\n",
    "        team_home = df[df['HomeTeam']==team]\n",
    "        team_away = df[df['AwayTeam']==team]\n",
    "\n",
    "        team_h_win = len(team_home[team_home['FTHG']>team_home['FTAG']])\n",
    "        team_a_win = len(team_away[team_away['FTAG']>team_away['FTHG']])\n",
    "        team_draw = len(t[t['FTAG']==t['FTHG']])\n",
    "\n",
    "        team_points = 3*team_a_win + 3*team_h_win + team_draw\n",
    "        team_target.append(team_points)\n",
    "\n",
    "    return team_target\n"
   ]
  },
  {
   "cell_type": "code",
   "execution_count": 13,
   "metadata": {
    "collapsed": false
   },
   "outputs": [],
   "source": [
    "targ_1617 = build_target(df_week, teams_1617)\n",
    "feat_1617 = build_features(df_week, teams_1617)"
   ]
  },
  {
   "cell_type": "code",
   "execution_count": 14,
   "metadata": {
    "collapsed": true
   },
   "outputs": [],
   "source": [
    "model_1 = joblib.load('../data/linreg_model.pkl')\n",
    "\n",
    "pred_1617 = model_1.predict(feat_1617)"
   ]
  },
  {
   "cell_type": "code",
   "execution_count": 15,
   "metadata": {
    "collapsed": false
   },
   "outputs": [],
   "source": [
    "#print pred_1617\n",
    "#print teams_1617\n",
    "ranking  = []\n",
    "realrank = []\n",
    "\n",
    "for t,p,tg in zip(teams_1617,pred_1617,targ_1617):\n",
    "    ranking.append((t, p, tg))\n",
    "    \n",
    "for t,p in zip(teams_1617,targ_1617):\n",
    "    realrank.append((t, p))\n",
    "    "
   ]
  },
  {
   "cell_type": "code",
   "execution_count": 16,
   "metadata": {
    "collapsed": false
   },
   "outputs": [
    {
     "name": "stdout",
     "output_type": "stream",
     "text": [
      "Juventus 29.4 36 6.6\n",
      "Roma 29.7 32 2.3\n",
      "Milan 20.6 32 11.4\n",
      "Atalanta 21.1 28 6.9\n",
      "Lazio 24.1 28 3.9\n",
      "Napoli 30.2 28 -2.2\n",
      "Torino 26.2 25 -1.2\n",
      "Fiorentina 24.4 23 -1.4\n",
      "Sampdoria 23.5 22 -1.5\n",
      "Inter 27.6 21 -6.6\n",
      "Genoa 18.5 20 1.5\n",
      "Cagliari 15.0 20 5.0\n",
      "Chievo 16.2 19 2.8\n",
      "Udinese 19.5 18 -1.5\n",
      "Sassuolo 18.8 17 -1.8\n",
      "Bologna 14.9 16 1.1\n",
      "Empoli 12.9 10 -2.9\n",
      "Pescara 18.8 8 -10.8\n",
      "Crotone 11.6 6 -5.6\n",
      "Palermo 11.8 6 -5.8\n"
     ]
    }
   ],
   "source": [
    "ranking.sort(key=lambda x: x[2],reverse=True)\n",
    "teams_pred_real = []\n",
    "\n",
    "for t,p,tg in ranking:\n",
    "    print t,'{:.1f}'.format(p),'{:.0f}'.format(tg), '{:.1f}'.format(tg-p)\n",
    "    teams_pred_real.append((t,'{:.1f}'.format(p),'{:.1f}'.format(tg)))\n",
    "    "
   ]
  },
  {
   "cell_type": "code",
   "execution_count": 17,
   "metadata": {
    "collapsed": false
   },
   "outputs": [
    {
     "data": {
      "image/png": "[encoded data removed]",
      "text/plain": [
       "<matplotlib.figure.Figure at 0x10d2fa390>"
      ]
     },
     "metadata": {},
     "output_type": "display_data"
    }
   ],
   "source": [
    "#!/usr/bin/env python\n",
    "\n",
    "team_names = [x[0] for x in teams_pred_real]\n",
    "team_pred =  [float(x[1]) for x in teams_pred_real]\n",
    "team_real =  [float(x[2]) for x in teams_pred_real]\n",
    "\n",
    "team_names.reverse()\n",
    "team_pred.reverse()\n",
    "team_real.reverse()\n",
    "\n",
    "width = 0.35       # the width of the bars\n",
    "space = 0.07       # the space bw the bars\n",
    "\n",
    "n = 20\n",
    "ind = np.arange(n)\n",
    "\n",
    "fig, ax = plt.subplots(figsize=(12, 12))\n",
    "\n",
    "rects1 = ax.barh(ind, team_pred, width, color='r')\n",
    "rects2 = ax.barh(ind + width + space, team_real, width, color='#27AE60')\n",
    "\n",
    "# add some text for labels, title and axes ticks\n",
    "ax.set_xlabel('Scores')\n",
    "ax.set_title('Serie A predicted vs real points')\n",
    "ax.set_yticks(ind + width)\n",
    "ax.set_yticklabels(team_names,size=14,family='sans-serif')\n",
    "\n",
    "ax.legend((rects1[0], rects2[0]), ('Predicted', 'Real'), loc=4)\n",
    "\n",
    "\n",
    "def autolabel(rects):\n",
    "    # attach some text labels\n",
    "    for t,p,rect in zip(team_real,team_pred,rects):\n",
    "        width = rect.get_width()\n",
    "        ax.text(1.02*width, rect.get_y() + rect.get_height()/0.9, \n",
    "                '%.1f' % float(t-p),\n",
    "                ha='left', va='top', size=14)\n",
    "\n",
    "#autolabel(rects1)\n",
    "autolabel(rects2)\n",
    "\n",
    "plt.savefig(\"serieA.pdf\")\n",
    "plt.show()\n"
   ]
  },
  {
   "cell_type": "code",
   "execution_count": 18,
   "metadata": {
    "collapsed": false
   },
   "outputs": [
    {
     "name": "stdout",
     "output_type": "stream",
     "text": [
      "10.8\n",
      "-11.4\n",
      "Pescara\n",
      "Milan\n"
     ]
    }
   ],
   "source": [
    "diff = [p-r for p,r in zip(team_pred,team_real)]\n",
    "print max(diff)\n",
    "print min(diff)\n",
    "\n",
    "print team_names[diff.index(max(diff))]\n",
    "print team_names[diff.index(min(diff))]\n"
   ]
  },
  {
   "cell_type": "code",
   "execution_count": 19,
   "metadata": {
    "collapsed": false
   },
   "outputs": [
    {
     "name": "stdout",
     "output_type": "stream",
     "text": [
      "Juventus 29.4 36 6.6\n",
      "Roma 29.7 32 2.3\n",
      "Milan 20.6 32 11.4\n",
      "Atalanta 21.1 28 6.9\n",
      "Lazio 24.1 28 3.9\n",
      "Napoli 30.2 28 -2.2\n",
      "Torino 26.2 25 -1.2\n",
      "Fiorentina 24.4 23 -1.4\n",
      "Sampdoria 23.5 22 -1.5\n",
      "Inter 27.6 21 -6.6\n",
      "Genoa 18.5 20 1.5\n",
      "Cagliari 15.0 20 5.0\n",
      "Chievo 16.2 19 2.8\n",
      "Udinese 19.5 18 -1.5\n",
      "Sassuolo 18.8 17 -1.8\n",
      "Bologna 14.9 16 1.1\n",
      "Empoli 12.9 10 -2.9\n",
      "Pescara 18.8 8 -10.8\n",
      "Crotone 11.6 6 -5.6\n",
      "Palermo 11.8 6 -5.8\n"
     ]
    }
   ],
   "source": [
    "with open('../data/16-17/pred.csv', 'wb') as csvfile:\n",
    "    predwriter = csv.writer(csvfile, delimiter=',',quotechar='|', quoting=csv.QUOTE_MINIMAL)\n",
    "    predwriter.writerow(['team','prediction','points','difference'])\n",
    "    for t,p,tg in ranking:\n",
    "        print t,'{:.1f}'.format(p),'{:.0f}'.format(tg), '{:.1f}'.format(tg-p)\n",
    "        predwriter.writerow([t,'{:.1f}'.format(p),'{:.0f}'.format(tg), '{:.1f}'.format(tg-p)])"
   ]
  },
  {
   "cell_type": "code",
   "execution_count": 20,
   "metadata": {
    "collapsed": false
   },
   "outputs": [
    {
     "name": "stdout",
     "output_type": "stream",
     "text": [
      "[36, 23, 32, 18, 28, 28, 16, 6, 19, 21, 10, 22, 20, 20, 32, 25, 6, 17, 8, 28]\n",
      "[ 29.37067023  24.38342338  29.68291943  19.47851403  21.08370007\n",
      "  24.05765331  14.88181823  11.55074775  16.24164547  27.59179919\n",
      "  12.91220621  23.49038088  18.46895131  15.03955121  20.60065717\n",
      "  26.18245254  11.79521552  18.84039917  18.76509135  30.20139132]\n",
      "Variance score: 0.63\n",
      "Residual sum of squares: 26.33\n"
     ]
    }
   ],
   "source": [
    "print targ_1617\n",
    "print model_1.predict(feat_1617)\n",
    "#Explained variance score: 1 is perfect prediction\n",
    "print('Variance score: %.2f' % model_1.score(feat_1617, targ_1617))\n",
    "print(\"Residual sum of squares: %.2f\"\n",
    "      % np.mean((model_1.predict(feat_1617) - targ_1617) ** 2))"
   ]
  },
  {
   "cell_type": "code",
   "execution_count": 21,
   "metadata": {
    "collapsed": true
   },
   "outputs": [],
   "source": [
    "model_1 = joblib.load('../data/regtree_model.pkl')\n",
    "\n",
    "pred_1617 = model_1.predict(feat_1617)"
   ]
  },
  {
   "cell_type": "code",
   "execution_count": 22,
   "metadata": {
    "collapsed": false
   },
   "outputs": [
    {
     "name": "stdout",
     "output_type": "stream",
     "text": [
      "[ 36.5  36.5  36.5  36.5  36.5  36.5  36.5  36.5  36.5  36.5  36.5  36.5\n",
      "  36.5  36.5  36.5  36.5  36.5  36.5  36.5  36.5]\n",
      "[36, 23, 32, 18, 28, 28, 16, 6, 19, 21, 10, 22, 20, 20, 32, 25, 6, 17, 8, 28]\n"
     ]
    }
   ],
   "source": [
    "print pred_1617\n",
    "print targ_1617"
   ]
  },
  {
   "cell_type": "code",
   "execution_count": null,
   "metadata": {
    "collapsed": true
   },
   "outputs": [],
   "source": []
  }
 ],
 "metadata": {
  "kernelspec": {
   "display_name": "Python 2",
   "language": "python",
   "name": "python2"
  },
  "language_info": {
   "codemirror_mode": {
    "name": "ipython",
    "version": 2
   },
   "file_extension": ".py",
   "mimetype": "text/x-python",
   "name": "python",
   "nbconvert_exporter": "python",
   "pygments_lexer": "ipython2",
   "version": "2.7.10"
  }
 },
 "nbformat": 4,
 "nbformat_minor": 0
}
