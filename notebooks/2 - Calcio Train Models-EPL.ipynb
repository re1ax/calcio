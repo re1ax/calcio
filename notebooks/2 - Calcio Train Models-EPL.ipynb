{
 "cells": [
  {
   "cell_type": "code",
   "execution_count": 1,
   "metadata": {
    "collapsed": true
   },
   "outputs": [],
   "source": [
    "import pandas as pd\n",
    "import numpy as np \n",
    "import matplotlib.pyplot as plt \n",
    "from pylab import *\n",
    "%matplotlib inline\n",
    "import numpy as np\n",
    "from sklearn import datasets, linear_model\n",
    "from sklearn import cross_validation as cv\n",
    "from sklearn.tree import DecisionTreeRegressor\n",
    "from sklearn.externals import joblib"
   ]
  },
  {
   "cell_type": "code",
   "execution_count": 4,
   "metadata": {
    "collapsed": false
   },
   "outputs": [
    {
     "name": "stdout",
     "output_type": "stream",
     "text": [
      "    shots  shots_ontarget  shots_conceded  shots_conceded_ontarget  corners  \\\n",
      "0     612             407             228                      130      254   \n",
      "1     438             525             139                      151      209   \n",
      "2     457             552             137                      173      211   \n",
      "3     484             501             166                      128      194   \n",
      "4     509             379             179                      140      213   \n",
      "5     422             552             147                      192      151   \n",
      "6     533             618             151                      216      179   \n",
      "7     429             499             131                      157      169   \n",
      "8     501             454             136                      143      192   \n",
      "9     414             478             127                      170      171   \n",
      "10    411             544             130                      186      171   \n",
      "11    404             624             129                      197      185   \n",
      "12    485             589             152                      179      241   \n",
      "13    524             489             172                      172      224   \n",
      "14    590             415             194                      143      198   \n",
      "15    506             384             170                      114      209   \n",
      "16    467             443             143                      163      222   \n",
      "17    668             388             228                      129      273   \n",
      "18    429             589             125                      187      170   \n",
      "19    563             416             210                      124      226   \n",
      "20    524             449             210                      155      211   \n",
      "21    430             491             134                      169      163   \n",
      "22    650             475             259                      150      224   \n",
      "23    425             546             139                      179      164   \n",
      "24    464             582             146                      192      197   \n",
      "25    560             491             195                      153      251   \n",
      "26    490             635             137                      213      188   \n",
      "27    431             669             149                      242      194   \n",
      "28    494             482             163                      153      223   \n",
      "29    525             451             181                      146      216   \n",
      "..    ...             ...             ...                      ...      ...   \n",
      "50    460             537             253                      293      202   \n",
      "51    669             383             385                      217      285   \n",
      "52    439             580             250                      344      213   \n",
      "53    393             557             225                      296      178   \n",
      "54    601             366             352                      189      269   \n",
      "55    473             406             254                      225      209   \n",
      "56    452             493             257                      281      199   \n",
      "57    569             443             336                      261      240   \n",
      "58    561             414             321                      238      257   \n",
      "59    512             447             299                      256      218   \n",
      "60    415             570             238                      300      166   \n",
      "61    411             607             229                      381      206   \n",
      "62    489             546             301                      306      188   \n",
      "63    404             503             203                      285      218   \n",
      "64    612             376             330                      199      308   \n",
      "65    417             539             233                      302      179   \n",
      "66    451             498             255                      276      172   \n",
      "67    585             365             352                      197      263   \n",
      "68    494             557             264                      325      195   \n",
      "69    447             590             275                      341      211   \n",
      "70    456             503             258                      278      209   \n",
      "71    474             557             254                      325      167   \n",
      "72    340             496             151                      294      165   \n",
      "73    616             428             334                      241      254   \n",
      "74    470             532             264                      281      212   \n",
      "75    592             468             369                      263      279   \n",
      "76    666             353             399                      204      269   \n",
      "77    420             530             241                      299      204   \n",
      "78    585             365             352                      197      263   \n",
      "79    612             376             330                      199      308   \n",
      "\n",
      "    corners_conceded  \n",
      "0                172  \n",
      "1                226  \n",
      "2                234  \n",
      "3                202  \n",
      "4                172  \n",
      "5                210  \n",
      "6                244  \n",
      "7                222  \n",
      "8                233  \n",
      "9                216  \n",
      "10               188  \n",
      "11               220  \n",
      "12               211  \n",
      "13               210  \n",
      "14               199  \n",
      "15               162  \n",
      "16               183  \n",
      "17               155  \n",
      "18               240  \n",
      "19               163  \n",
      "20               161  \n",
      "21               210  \n",
      "22               190  \n",
      "23               226  \n",
      "24               221  \n",
      "25               189  \n",
      "26               216  \n",
      "27               250  \n",
      "28               192  \n",
      "29               170  \n",
      "..               ...  \n",
      "50               249  \n",
      "51               164  \n",
      "52               217  \n",
      "53               251  \n",
      "54               174  \n",
      "55               213  \n",
      "56               196  \n",
      "57               205  \n",
      "58               181  \n",
      "59               182  \n",
      "60               268  \n",
      "61               245  \n",
      "62               208  \n",
      "63               289  \n",
      "64               145  \n",
      "65               244  \n",
      "66               195  \n",
      "67               165  \n",
      "68               270  \n",
      "69               267  \n",
      "70               208  \n",
      "71               238  \n",
      "72               261  \n",
      "73               165  \n",
      "74               232  \n",
      "75               158  \n",
      "76               175  \n",
      "77               241  \n",
      "78               165  \n",
      "79               145  \n",
      "\n",
      "[80 rows x 6 columns]\n",
      "0     75\n",
      "1     48\n",
      "2     41\n",
      "3     47\n",
      "4     70\n",
      "5     56\n",
      "6     30\n",
      "7     35\n",
      "8     54\n",
      "9     38\n",
      "10    44\n",
      "11    38\n",
      "12    47\n",
      "13    64\n",
      "14    62\n",
      "15    60\n",
      "16    39\n",
      "17    79\n",
      "18    33\n",
      "19    87\n",
      "20    79\n",
      "21    38\n",
      "22    84\n",
      "23    50\n",
      "24    33\n",
      "25    72\n",
      "26    38\n",
      "27    32\n",
      "28    42\n",
      "29    64\n",
      "      ..\n",
      "50    49\n",
      "51    61\n",
      "52    46\n",
      "53    41\n",
      "54    78\n",
      "55    41\n",
      "56    36\n",
      "57    75\n",
      "58    63\n",
      "59    89\n",
      "60    31\n",
      "61    25\n",
      "62    52\n",
      "63    38\n",
      "64    52\n",
      "65    45\n",
      "66    65\n",
      "67    70\n",
      "68    37\n",
      "69    36\n",
      "70    43\n",
      "71    47\n",
      "72    45\n",
      "73    64\n",
      "74    47\n",
      "75    89\n",
      "76    89\n",
      "77    47\n",
      "78    70\n",
      "79    52\n",
      "Name: points, dtype: int64\n"
     ]
    }
   ],
   "source": [
    "#open the data file\n",
    "\n",
    "df = pd.DataFrame.from_csv(\"../data/proc_data_en.csv\")\n",
    "\n",
    "features = df[[\"shots\",\"shots_ontarget\",\"shots_conceded\",\"shots_conceded_ontarget\",\"corners\",\"corners_conceded\"]]\n",
    "target   = df[\"points\"]\n",
    "\n",
    "print features\n",
    "\n",
    "print target"
   ]
  },
  {
   "cell_type": "code",
   "execution_count": 5,
   "metadata": {
    "collapsed": false
   },
   "outputs": [
    {
     "name": "stdout",
     "output_type": "stream",
     "text": [
      "('Regression scores', array([ 0.61660066,  0.73772067,  0.49222508,  0.40574359]))\n",
      "Regression scores average 0.56\n",
      "scores variance 0.13\n"
     ]
    }
   ],
   "source": [
    "# Split the data into training/testing sets\n",
    "#X_train, X_test, y_train, y_test = cv.train_test_split(features, target, test_size=0.33, random_state=42)\n",
    "\n",
    "#print np.array(X_test)[:,0]\n",
    "#print np.array(y_test)[:]\n",
    "\n",
    "# Create linear regression object\n",
    "regr = linear_model.LinearRegression(fit_intercept=False)\n",
    "\n",
    "#print len(X_train)\n",
    "#print len(y_train)\n",
    "# Train the model using the training sets\n",
    "#regr.fit(X_train, y_train)\n",
    "\n",
    "scores = cv.cross_val_score(regr, features, target,cv=4)\n",
    "print(\"Regression scores\", scores)\n",
    "print(\"Regression scores average %.2f\" %np.mean(scores))\n",
    "print(\"scores variance %.2f\" %np.std(scores))\n",
    "\n",
    "# The coefficients\n",
    "#print('Coefficients: \\n', regr.coef_)\n",
    "# The mean square error\n",
    "#print(\"Residual sum of squares: %.2f\"\n",
    "#      % np.mean((regr.predict(X_test) - y_test) ** 2))\n",
    "# Explained variance score: 1 is perfect prediction\n",
    "#print('Variance score: %.6f' % regr.score(X_test, y_test))"
   ]
  },
  {
   "cell_type": "code",
   "execution_count": 6,
   "metadata": {
    "collapsed": false
   },
   "outputs": [
    {
     "name": "stdout",
     "output_type": "stream",
     "text": [
      "[ 0.10385682  0.00249527  0.07958984 -0.06586667 -0.00822991 -0.00897646]\n",
      "0.0\n"
     ]
    },
    {
     "data": {
      "text/plain": [
       "['../data/linreg_model_en.pkl',\n",
       " '../data/linreg_model_en.pkl_01.npy',\n",
       " '../data/linreg_model_en.pkl_02.npy']"
      ]
     },
     "execution_count": 6,
     "metadata": {},
     "output_type": "execute_result"
    }
   ],
   "source": [
    "#apply the linear regression model to the full dataset and \n",
    "#save the regression data into a model to apply it later\n",
    "regr.fit(features,target)\n",
    "print regr.coef_\n",
    "print regr.intercept_\n",
    "joblib.dump(regr, '../data/linreg_model_en.pkl')  "
   ]
  },
  {
   "cell_type": "code",
   "execution_count": 7,
   "metadata": {
    "collapsed": false
   },
   "outputs": [
    {
     "name": "stdout",
     "output_type": "stream",
     "text": [
      "('Regression Tree scores', array([-0.29675304,  0.77972106,  0.73066558,  0.77346869,  0.43293717]))\n",
      "Regression Tree scores average 0.48\n",
      "Regression Tree scores variance 0.41\n",
      "('Regression Tree2 scores', array([ 0.17782918,  0.45818382,  0.58099771,  0.60432048,  0.44897639]))\n",
      "Regression Tree2 scores average 0.45\n",
      "Regression Tree2 scores variance 0.15\n",
      "('Regression Tree3 scores', array([ 0.17314677,  0.75006996,  0.58199714,  0.56117384,  0.43028774]))\n",
      "Regression Tree3 scores average 0.50\n",
      "Regression Tree3 scores variance 0.19\n"
     ]
    }
   ],
   "source": [
    "# Fit regression model Decision Tree\n",
    "regr_1 = DecisionTreeRegressor(max_depth=2)\n",
    "regr_2 = DecisionTreeRegressor(max_depth=5)\n",
    "regr_3 = DecisionTreeRegressor()\n",
    "\n",
    "scores = cv.cross_val_score(regr_1, features, target,cv=5)\n",
    "print(\"Regression Tree scores\", scores)\n",
    "print(\"Regression Tree scores average %.2f\" %np.mean(scores))\n",
    "print(\"Regression Tree scores variance %.2f\" %np.std(scores))\n",
    "\n",
    "\n",
    "scores = cv.cross_val_score(regr_2, features, target,cv=5)\n",
    "print(\"Regression Tree2 scores\", scores)\n",
    "print(\"Regression Tree2 scores average %.2f\" %np.mean(scores))\n",
    "print(\"Regression Tree2 scores variance %.2f\" %np.std(scores))\n",
    "\n",
    "\n",
    "scores = cv.cross_val_score(regr_3, features, target,cv=5)\n",
    "print(\"Regression Tree3 scores\", scores)\n",
    "print(\"Regression Tree3 scores average %.2f\" %np.mean(scores))\n",
    "print(\"Regression Tree3 scores variance %.2f\" %np.std(scores))\n"
   ]
  },
  {
   "cell_type": "code",
   "execution_count": 8,
   "metadata": {
    "collapsed": false
   },
   "outputs": [
    {
     "data": {
      "text/plain": [
       "['../data/regtree_model_en.pkl',\n",
       " '../data/regtree_model_en.pkl_01.npy',\n",
       " '../data/regtree_model_en.pkl_02.npy',\n",
       " '../data/regtree_model_en.pkl_03.npy']"
      ]
     },
     "execution_count": 8,
     "metadata": {},
     "output_type": "execute_result"
    }
   ],
   "source": [
    "#apply the regression tree model to the full dataset and \n",
    "#save the regression data into a model to apply it later\n",
    "regr_2.fit(features,target)\n",
    "joblib.dump(regr_2, '../data/regtree_model_en.pkl')  "
   ]
  },
  {
   "cell_type": "code",
   "execution_count": null,
   "metadata": {
    "collapsed": true
   },
   "outputs": [],
   "source": [
    "\n"
   ]
  }
 ],
 "metadata": {
  "kernelspec": {
   "display_name": "Python 2",
   "language": "python",
   "name": "python2"
  },
  "language_info": {
   "codemirror_mode": {
    "name": "ipython",
    "version": 2
   },
   "file_extension": ".py",
   "mimetype": "text/x-python",
   "name": "python",
   "nbconvert_exporter": "python",
   "pygments_lexer": "ipython2",
   "version": "2.7.11"
  }
 },
 "nbformat": 4,
 "nbformat_minor": 0
}
