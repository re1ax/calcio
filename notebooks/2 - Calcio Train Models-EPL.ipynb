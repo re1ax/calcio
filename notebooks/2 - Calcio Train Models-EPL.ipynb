{
 "cells": [
  {
   "cell_type": "code",
   "execution_count": 1,
   "metadata": {
    "collapsed": true
   },
   "outputs": [],
   "source": [
    "import pandas as pd\n",
    "import numpy as np \n",
    "import matplotlib.pyplot as plt \n",
    "from pylab import *\n",
    "%matplotlib inline\n",
    "import numpy as np\n",
    "from sklearn import datasets, linear_model\n",
    "from sklearn import cross_validation as cv\n",
    "from sklearn.tree import DecisionTreeRegressor\n",
    "from sklearn.externals import joblib"
   ]
  },
  {
   "cell_type": "code",
   "execution_count": 2,
   "metadata": {
    "collapsed": false
   },
   "outputs": [
    {
     "name": "stdout",
     "output_type": "stream",
     "text": [
      "    shots  shots_ontarget  shots_conceded  shots_conceded_ontarget  corners  \\\n",
      "0     463             436             144                      154      221   \n",
      "1     368             500             111                      191      167   \n",
      "2     526             482             173                      179      240   \n",
      "3     442             523             136                      169      163   \n",
      "4     492             551             175                      185      218   \n",
      "5     445             499             136                      174      166   \n",
      "6     523             516             181                      143      197   \n",
      "7     439             569             143                      218      160   \n",
      "8     430             411             143                      123      228   \n",
      "9     661             421             250                      121      254   \n",
      "10    416             490             126                      172      188   \n",
      "11    466             569             152                      172      219   \n",
      "12    572             452             210                      152      227   \n",
      "13    556             513             184                      168      224   \n",
      "14    398             554             152                      178      158   \n",
      "15    519             460             169                      140      224   \n",
      "16    418             533             130                      177      153   \n",
      "17    629             397             203                      133      265   \n",
      "18    384             547             106                      160      188   \n",
      "19    612             336             210                      125      257   \n",
      "20    612             407             228                      130      254   \n",
      "21    438             525             139                      151      209   \n",
      "22    457             552             137                      173      211   \n",
      "23    484             501             166                      128      194   \n",
      "24    509             379             179                      140      213   \n",
      "25    422             552             147                      192      151   \n",
      "26    533             618             151                      216      179   \n",
      "27    429             499             131                      157      169   \n",
      "28    501             454             136                      143      192   \n",
      "29    414             478             127                      170      171   \n",
      "..    ...             ...             ...                      ...      ...   \n",
      "70    460             537             253                      293      202   \n",
      "71    669             383             385                      217      285   \n",
      "72    439             580             250                      344      213   \n",
      "73    393             557             225                      296      178   \n",
      "74    601             366             352                      189      269   \n",
      "75    473             406             254                      225      209   \n",
      "76    452             493             257                      281      199   \n",
      "77    569             443             336                      261      240   \n",
      "78    561             414             321                      238      257   \n",
      "79    512             447             299                      256      218   \n",
      "80    415             570             238                      300      166   \n",
      "81    411             607             229                      381      206   \n",
      "82    489             546             301                      306      188   \n",
      "83    404             503             203                      285      218   \n",
      "84    612             376             330                      199      308   \n",
      "85    417             539             233                      302      179   \n",
      "86    451             498             255                      276      172   \n",
      "87    585             365             352                      197      263   \n",
      "88    494             557             264                      325      195   \n",
      "89    447             590             275                      341      211   \n",
      "90    456             503             258                      278      209   \n",
      "91    474             557             254                      325      167   \n",
      "92    340             496             151                      294      165   \n",
      "93    616             428             334                      241      254   \n",
      "94    470             532             264                      281      212   \n",
      "95    592             468             369                      263      279   \n",
      "96    666             353             399                      204      269   \n",
      "97    420             530             241                      299      204   \n",
      "98    585             365             352                      197      263   \n",
      "99    612             376             330                      199      308   \n",
      "\n",
      "    corners_conceded  \n",
      "0                169  \n",
      "1                233  \n",
      "2                206  \n",
      "3                197  \n",
      "4                227  \n",
      "5                244  \n",
      "6                239  \n",
      "7                227  \n",
      "8                144  \n",
      "9                181  \n",
      "10               202  \n",
      "11               222  \n",
      "12               181  \n",
      "13               196  \n",
      "14               242  \n",
      "15               205  \n",
      "16               240  \n",
      "17               175  \n",
      "18               222  \n",
      "19               165  \n",
      "20               172  \n",
      "21               226  \n",
      "22               234  \n",
      "23               202  \n",
      "24               172  \n",
      "25               210  \n",
      "26               244  \n",
      "27               222  \n",
      "28               233  \n",
      "29               216  \n",
      "..               ...  \n",
      "70               249  \n",
      "71               164  \n",
      "72               217  \n",
      "73               251  \n",
      "74               174  \n",
      "75               213  \n",
      "76               196  \n",
      "77               205  \n",
      "78               181  \n",
      "79               182  \n",
      "80               268  \n",
      "81               245  \n",
      "82               208  \n",
      "83               289  \n",
      "84               145  \n",
      "85               244  \n",
      "86               195  \n",
      "87               165  \n",
      "88               270  \n",
      "89               267  \n",
      "90               208  \n",
      "91               238  \n",
      "92               261  \n",
      "93               165  \n",
      "94               232  \n",
      "95               158  \n",
      "96               175  \n",
      "97               241  \n",
      "98               165  \n",
      "99               145  \n",
      "\n",
      "[100 rows x 6 columns]\n",
      "0     42\n",
      "1     17\n",
      "2     50\n",
      "3     47\n",
      "4     47\n",
      "5     45\n",
      "6     81\n",
      "7     39\n",
      "8     66\n",
      "9     70\n",
      "10    34\n",
      "11    42\n",
      "12    71\n",
      "13    62\n",
      "14    37\n",
      "15    63\n",
      "16    51\n",
      "17    60\n",
      "18    43\n",
      "19    66\n",
      "20    75\n",
      "21    48\n",
      "22    41\n",
      "23    47\n",
      "24    70\n",
      "25    56\n",
      "26    30\n",
      "27    35\n",
      "28    54\n",
      "29    38\n",
      "      ..\n",
      "70    49\n",
      "71    61\n",
      "72    46\n",
      "73    41\n",
      "74    78\n",
      "75    41\n",
      "76    36\n",
      "77    75\n",
      "78    63\n",
      "79    89\n",
      "80    31\n",
      "81    25\n",
      "82    52\n",
      "83    38\n",
      "84    52\n",
      "85    45\n",
      "86    65\n",
      "87    70\n",
      "88    37\n",
      "89    36\n",
      "90    43\n",
      "91    47\n",
      "92    45\n",
      "93    64\n",
      "94    47\n",
      "95    89\n",
      "96    89\n",
      "97    47\n",
      "98    70\n",
      "99    52\n",
      "Name: points, dtype: int64\n"
     ]
    }
   ],
   "source": [
    "#open the data file\n",
    "\n",
    "df = pd.DataFrame.from_csv(\"../data/proc_data_en.csv\")\n",
    "\n",
    "features = df[[\"shots\",\"shots_ontarget\",\"shots_conceded\",\"shots_conceded_ontarget\",\"corners\",\"corners_conceded\"]]\n",
    "target   = df[\"points\"]\n",
    "\n",
    "print features\n",
    "\n",
    "print target"
   ]
  },
  {
   "cell_type": "code",
   "execution_count": 3,
   "metadata": {
    "collapsed": false
   },
   "outputs": [
    {
     "name": "stdout",
     "output_type": "stream",
     "text": [
      "('Regression scores', array([ 0.61882293,  0.63569774,  0.65005531,  0.46189956]))\n",
      "Regression scores average 0.59\n",
      "scores variance 0.08\n"
     ]
    }
   ],
   "source": [
    "# Split the data into training/testing sets\n",
    "#X_train, X_test, y_train, y_test = cv.train_test_split(features, target, test_size=0.33, random_state=42)\n",
    "\n",
    "#print np.array(X_test)[:,0]\n",
    "#print np.array(y_test)[:]\n",
    "\n",
    "# Create linear regression object\n",
    "regr = linear_model.LinearRegression(fit_intercept=False)\n",
    "\n",
    "#print len(X_train)\n",
    "#print len(y_train)\n",
    "# Train the model using the training sets\n",
    "#regr.fit(X_train, y_train)\n",
    "\n",
    "scores = cv.cross_val_score(regr, features, target,cv=4)\n",
    "print(\"Regression scores\", scores)\n",
    "print(\"Regression scores average %.2f\" %np.mean(scores))\n",
    "print(\"scores variance %.2f\" %np.std(scores))\n",
    "\n",
    "# The coefficients\n",
    "#print('Coefficients: \\n', regr.coef_)\n",
    "# The mean square error\n",
    "#print(\"Residual sum of squares: %.2f\"\n",
    "#      % np.mean((regr.predict(X_test) - y_test) ** 2))\n",
    "# Explained variance score: 1 is perfect prediction\n",
    "#print('Variance score: %.6f' % regr.score(X_test, y_test))"
   ]
  },
  {
   "cell_type": "code",
   "execution_count": 5,
   "metadata": {
    "collapsed": false
   },
   "outputs": [
    {
     "name": "stdout",
     "output_type": "stream",
     "text": [
      "[ 0.09174901  0.0167394   0.1076129  -0.09908084 -0.01508634 -0.00106424]\n",
      "0.0\n"
     ]
    },
    {
     "data": {
      "text/plain": [
       "['../data/linreg_model_en.pkl',\n",
       " '../data/linreg_model_en.pkl_01.npy',\n",
       " '../data/linreg_model_en.pkl_02.npy']"
      ]
     },
     "execution_count": 5,
     "metadata": {},
     "output_type": "execute_result"
    }
   ],
   "source": [
    "#apply the linear regression model to the full dataset and \n",
    "#save the regression data into a model to apply it later\n",
    "regr.fit(features,target)\n",
    "print regr.coef_\n",
    "print regr.intercept_\n",
    "joblib.dump(regr, '../data/linreg_model_en.pkl')  "
   ]
  },
  {
   "cell_type": "code",
   "execution_count": 6,
   "metadata": {
    "collapsed": false
   },
   "outputs": [
    {
     "name": "stdout",
     "output_type": "stream",
     "text": [
      "('Regression Tree scores', array([ 0.47647458,  0.59785677,  0.68015923,  0.78875747,  0.52898848]))\n",
      "Regression Tree scores average 0.61\n",
      "Regression Tree scores variance 0.11\n",
      "('Regression Tree2 scores', array([ 0.42701412,  0.72038306,  0.57100977,  0.63702002,  0.50794219]))\n",
      "Regression Tree2 scores average 0.57\n",
      "Regression Tree2 scores variance 0.10\n",
      "('Regression Tree3 scores', array([ 0.33554891,  0.58846521,  0.36906685,  0.31507758,  0.37887985]))\n",
      "Regression Tree3 scores average 0.40\n",
      "Regression Tree3 scores variance 0.10\n"
     ]
    }
   ],
   "source": [
    "# Fit regression model Decision Tree\n",
    "regr_1 = DecisionTreeRegressor(max_depth=2)\n",
    "regr_2 = DecisionTreeRegressor(max_depth=5)\n",
    "regr_3 = DecisionTreeRegressor()\n",
    "\n",
    "scores = cv.cross_val_score(regr_1, features, target,cv=5)\n",
    "print(\"Regression Tree scores\", scores)\n",
    "print(\"Regression Tree scores average %.2f\" %np.mean(scores))\n",
    "print(\"Regression Tree scores variance %.2f\" %np.std(scores))\n",
    "\n",
    "\n",
    "scores = cv.cross_val_score(regr_2, features, target,cv=5)\n",
    "print(\"Regression Tree2 scores\", scores)\n",
    "print(\"Regression Tree2 scores average %.2f\" %np.mean(scores))\n",
    "print(\"Regression Tree2 scores variance %.2f\" %np.std(scores))\n",
    "\n",
    "\n",
    "scores = cv.cross_val_score(regr_3, features, target,cv=5)\n",
    "print(\"Regression Tree3 scores\", scores)\n",
    "print(\"Regression Tree3 scores average %.2f\" %np.mean(scores))\n",
    "print(\"Regression Tree3 scores variance %.2f\" %np.std(scores))\n"
   ]
  },
  {
   "cell_type": "code",
   "execution_count": 7,
   "metadata": {
    "collapsed": false
   },
   "outputs": [
    {
     "data": {
      "text/plain": [
       "['../data/regtree_model_en.pkl',\n",
       " '../data/regtree_model_en.pkl_01.npy',\n",
       " '../data/regtree_model_en.pkl_02.npy',\n",
       " '../data/regtree_model_en.pkl_03.npy']"
      ]
     },
     "execution_count": 7,
     "metadata": {},
     "output_type": "execute_result"
    }
   ],
   "source": [
    "#apply the regression tree model to the full dataset and \n",
    "#save the regression data into a model to apply it later\n",
    "regr_2.fit(features,target)\n",
    "joblib.dump(regr_2, '../data/regtree_model_en.pkl')  "
   ]
  },
  {
   "cell_type": "code",
   "execution_count": null,
   "metadata": {
    "collapsed": true
   },
   "outputs": [],
   "source": [
    "\n"
   ]
  }
 ],
 "metadata": {
  "kernelspec": {
   "display_name": "Python 2",
   "language": "python",
   "name": "python2"
  },
  "language_info": {
   "codemirror_mode": {
    "name": "ipython",
    "version": 2
   },
   "file_extension": ".py",
   "mimetype": "text/x-python",
   "name": "python",
   "nbconvert_exporter": "python",
   "pygments_lexer": "ipython2",
   "version": "2.7.10"
  }
 },
 "nbformat": 4,
 "nbformat_minor": 0
}
